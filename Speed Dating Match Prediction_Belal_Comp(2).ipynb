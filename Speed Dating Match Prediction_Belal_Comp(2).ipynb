{
 "cells": [
  {
   "cell_type": "markdown",
   "metadata": {},
   "source": [
    "# Speed Dating Match Prediction Competition"
   ]
  },
  {
   "cell_type": "markdown",
   "metadata": {},
   "source": [
    "* Speed Dating Match Prediction steps:-\n",
    "    *   1- ✔️ Meme competition [optional]\n",
    "    *   2- ✔️ Problem Formulation\n",
    "    *   3- ✔️ Document your code\n",
    "    *   4- ✔️ Model Tuning and Documentation\n",
    "    *   5- ✔️ Answer some of questions (briefly)"
   ]
  },
  {
   "cell_type": "markdown",
   "metadata": {},
   "source": [
    "1- ✔️ Meme competition [optional]:\n",
    "* Include/find a MEME that you liked related to data science/data mining/machine learning. You can upload yours here\n",
    "https://github.com/CISC-873/Information-2022/issues/1."
   ]
  },
  {
   "cell_type": "markdown",
   "metadata": {},
   "source": [
    "2- ✔️ Problem Formulation:\n",
    "* Define the problem. What is the input? What is the output? What data mining function is required? What could be the challenges? What is the impact? What is an ideal solution?"
   ]
  },
  {
   "cell_type": "markdown",
   "metadata": {},
   "source": [
    "**Define the problem**\n",
    "\n",
    "`We need to predict the outcome of a specific speed dating session based on the profile of two people, so we can implement a recommendation system to better match people in speed dating events. but the given data has a lot of missing values that must be handled to perform the model well.`\n",
    "\n",
    "**What is the input?**\n",
    "\n",
    "`we have some features for each participant ,this will help us to know some information about Participants,and predict exactly`\n",
    "\n",
    "**What is the output?** \n",
    "\n",
    "`The output is which the two people matches or not matched based on the features.`\n",
    "\n",
    "**What data mining function is required?**\n",
    "* Data Cleaning or Cleansing \n",
    "    * 1) Import the required Python libraries\n",
    "    * 2) Read Data\n",
    "    * 3) Some feature engineering\n",
    "* Work with Missing Data\n",
    "    * 1)Check Missing Data\n",
    "        1. Transform missing values to Nan for unknown values.\n",
    "        2. Check NaN Values Count.\n",
    "    * 2) Drop Missing Data\n",
    "    * 3) Fill Missing data with Pandas\n",
    "        - For Numerical Data\n",
    "            * Mean\n",
    "            * Median\n",
    "            * Mode or Most frequent\n",
    "        - For Categorical Data\n",
    "            * Mode or Most frequent\n",
    "    * 4) Fill Missing data with Sklearn Imputer\n",
    "        - SimpleImputer\n",
    "            * Mean\n",
    "            * Median\n",
    "            * Mode or Most frequent\n",
    "        - KNNImputer\n",
    "* Outliers Handling\n",
    "* Data Split to Train and Test Sets\n",
    "* Data Preprocessing Project – Feature Scaling\n",
    "* Models that will be used:\n",
    "\n",
    "   1) **XGBClassifier** \n",
    "   \n",
    "   2) **GradientBoostingClassifier**\n",
    "   \n",
    "   3) **ExtraTreesClassifier**\n",
    "\n",
    "    \n",
    "`A binary classification function Will be used`\n",
    "\n",
    "**What could be the challenges?**\n",
    "*  `The data have alot of missing value should be handled` \n",
    "* `we should select best classifier for classify more accurate` \n",
    "* `use feature selection to know what is the important features can give us high predict`\n",
    "* `The implementation of preprocessing processes, selection of appropriate features to increase model performance and the accuracy of machine learning or data mining models are affected because of poor quality of data, are considered to be challenging.`\n",
    "* `The real dataset never comes clean. It consists lot of discrepancies in the dataset. So, we have to clean the dataset for further processing.`\n",
    "  \n",
    "**What is the impact?**\n",
    "\n",
    "`The recommendation system can select two person that perfectly match each other based on their answers in the application`\n",
    "   \n",
    "**What is an ideal solution?**\n",
    "\n",
    "`\n",
    "Handleing of  missing data perfectly and select the best hyperparameters that gives high performance\n",
    "in case of my trials i notice that the Xgbclassifier did this perfectly\n",
    "`"
   ]
  },
  {
   "cell_type": "markdown",
   "metadata": {},
   "source": [
    "# Data Cleaning or Cleansing\n",
    "\n",
    "* Whenever we have to work with a real world dataset, the first problem that we face is to clean it. The real world dataset never comes clean. It consists lot of discrepancies in the dataset. So, we have to clean the dataset for further processing.\n",
    "\n",
    "* Cleaning data is the process of preparing the dataset for analysis. It is very important because the accuracy of machine learning or data mining models are affected because of poor quality of data.\n",
    "\n",
    "* So, data scientists spend a large amount of their time cleaning the dataset and transform them into a format with which they can work with. In fact, data scientists spend 80% of their time cleaning the data.\n",
    "\n",
    "* A very common scenario is that the dataset contains missing values coded as NaN. Also, the missing values are coded in different ways. The dataset may contain negative or invalid values. It may contain outliers. It may be in the untidy format. All of these are examples of a messy dataset.\n",
    "\n",
    "* In this project, I present several useful ways to handle these discrepancies in the dataset."
   ]
  },
  {
   "cell_type": "markdown",
   "metadata": {},
   "source": [
    "3- ✔️ Document your code"
   ]
  },
  {
   "cell_type": "markdown",
   "metadata": {},
   "source": [
    "# * 1- Import the required Python libraries"
   ]
  },
  {
   "cell_type": "code",
   "execution_count": 1,
   "metadata": {},
   "outputs": [],
   "source": [
    "import warnings #handling warning \n",
    "warnings.filterwarnings('ignore')\n",
    "import numpy as np #used for working with arrays\n",
    "import pandas as pd#Pandas is mainly used for data analysis\n",
    "# Used to visualize distribution, trends and relationships of variables(visualization)\n",
    "import seaborn as sns\n",
    "import matplotlib.pyplot as plt\n",
    "from numpy.ma.core import array\n",
    "import matplotlib.pyplot as plt#is a cross-platform, data visualization and graphical plotting library\n",
    "from sklearn.pipeline import Pipeline #pipeline is a way to codify and automate the workflow\n",
    "from xgboost.sklearn import XGBClassifier #Model binary classification, XGBoost classifier - faster, more accurate version of sklearn's GradientBoostingClassifier\n",
    "from sklearn.impute import SimpleImputer #Imputation transformer for completing missing values.\n",
    "from sklearn.datasets import fetch_openml\n",
    "from sklearn.compose import ColumnTransformer # used to transform column(s) separate from the rest of the feature space\n",
    "from sklearn.ensemble import ExtraTreesClassifier\n",
    "from sklearn.ensemble import RandomForestClassifier # ensemble classifier, fits several decision trees on several parameter combinations (bagging)\n",
    "from sklearn.ensemble import GradientBoostingClassifier#Model for classification\n",
    "from sklearn.compose import make_column_selector as selector\n",
    "from sklearn.preprocessing import StandardScaler, OneHotEncoder #Standardize features by removing the mean and scaling to unit variance.\n",
    "# one hot encoding is essential process of converting the categorical to numeric\n",
    "from sklearn.model_selection import train_test_split, GridSearchCV#Tuning the hyper-parameters\n",
    "# from sklearn.datasets import fetch_openml # fetches datasets from openml (i.e. iris dataset)\n",
    "%matplotlib inline\n",
    "sns.set()"
   ]
  },
  {
   "cell_type": "markdown",
   "metadata": {},
   "source": [
    "## 2-Load the dataset"
   ]
  },
  {
   "cell_type": "code",
   "execution_count": 2,
   "metadata": {},
   "outputs": [],
   "source": [
    "# We have two datasets to import one for trainig and another for testing in csv formats \n",
    "Tr_df = pd.read_csv(\"train.csv\")# read train file \n",
    "Ts_df = pd.read_csv(\"test.csv\")#read test file "
   ]
  },
  {
   "cell_type": "code",
   "execution_count": 3,
   "metadata": {},
   "outputs": [
    {
     "data": {
      "text/html": [
       "<div>\n",
       "<style scoped>\n",
       "    .dataframe tbody tr th:only-of-type {\n",
       "        vertical-align: middle;\n",
       "    }\n",
       "\n",
       "    .dataframe tbody tr th {\n",
       "        vertical-align: top;\n",
       "    }\n",
       "\n",
       "    .dataframe thead th {\n",
       "        text-align: right;\n",
       "    }\n",
       "</style>\n",
       "<table border=\"1\" class=\"dataframe\">\n",
       "  <thead>\n",
       "    <tr style=\"text-align: right;\">\n",
       "      <th></th>\n",
       "      <th>gender</th>\n",
       "      <th>idg</th>\n",
       "      <th>condtn</th>\n",
       "      <th>wave</th>\n",
       "      <th>round</th>\n",
       "      <th>position</th>\n",
       "      <th>positin1</th>\n",
       "      <th>order</th>\n",
       "      <th>partner</th>\n",
       "      <th>pid</th>\n",
       "      <th>...</th>\n",
       "      <th>sinc3_3</th>\n",
       "      <th>intel3_3</th>\n",
       "      <th>fun3_3</th>\n",
       "      <th>amb3_3</th>\n",
       "      <th>attr5_3</th>\n",
       "      <th>sinc5_3</th>\n",
       "      <th>intel5_3</th>\n",
       "      <th>fun5_3</th>\n",
       "      <th>amb5_3</th>\n",
       "      <th>id</th>\n",
       "    </tr>\n",
       "  </thead>\n",
       "  <tbody>\n",
       "    <tr>\n",
       "      <th>0</th>\n",
       "      <td>0</td>\n",
       "      <td>3</td>\n",
       "      <td>2</td>\n",
       "      <td>14</td>\n",
       "      <td>18</td>\n",
       "      <td>2</td>\n",
       "      <td>2.0</td>\n",
       "      <td>14</td>\n",
       "      <td>12</td>\n",
       "      <td>372.0</td>\n",
       "      <td>...</td>\n",
       "      <td>NaN</td>\n",
       "      <td>NaN</td>\n",
       "      <td>NaN</td>\n",
       "      <td>NaN</td>\n",
       "      <td>NaN</td>\n",
       "      <td>NaN</td>\n",
       "      <td>NaN</td>\n",
       "      <td>NaN</td>\n",
       "      <td>NaN</td>\n",
       "      <td>2583</td>\n",
       "    </tr>\n",
       "    <tr>\n",
       "      <th>1</th>\n",
       "      <td>1</td>\n",
       "      <td>14</td>\n",
       "      <td>1</td>\n",
       "      <td>3</td>\n",
       "      <td>10</td>\n",
       "      <td>2</td>\n",
       "      <td>NaN</td>\n",
       "      <td>8</td>\n",
       "      <td>8</td>\n",
       "      <td>63.0</td>\n",
       "      <td>...</td>\n",
       "      <td>8.0</td>\n",
       "      <td>8.0</td>\n",
       "      <td>7.0</td>\n",
       "      <td>8.0</td>\n",
       "      <td>NaN</td>\n",
       "      <td>NaN</td>\n",
       "      <td>NaN</td>\n",
       "      <td>NaN</td>\n",
       "      <td>NaN</td>\n",
       "      <td>6830</td>\n",
       "    </tr>\n",
       "    <tr>\n",
       "      <th>2</th>\n",
       "      <td>1</td>\n",
       "      <td>14</td>\n",
       "      <td>1</td>\n",
       "      <td>13</td>\n",
       "      <td>10</td>\n",
       "      <td>8</td>\n",
       "      <td>8.0</td>\n",
       "      <td>10</td>\n",
       "      <td>10</td>\n",
       "      <td>331.0</td>\n",
       "      <td>...</td>\n",
       "      <td>NaN</td>\n",
       "      <td>NaN</td>\n",
       "      <td>NaN</td>\n",
       "      <td>NaN</td>\n",
       "      <td>NaN</td>\n",
       "      <td>NaN</td>\n",
       "      <td>NaN</td>\n",
       "      <td>NaN</td>\n",
       "      <td>NaN</td>\n",
       "      <td>4840</td>\n",
       "    </tr>\n",
       "    <tr>\n",
       "      <th>3</th>\n",
       "      <td>1</td>\n",
       "      <td>38</td>\n",
       "      <td>2</td>\n",
       "      <td>9</td>\n",
       "      <td>20</td>\n",
       "      <td>18</td>\n",
       "      <td>13.0</td>\n",
       "      <td>6</td>\n",
       "      <td>7</td>\n",
       "      <td>200.0</td>\n",
       "      <td>...</td>\n",
       "      <td>9.0</td>\n",
       "      <td>8.0</td>\n",
       "      <td>8.0</td>\n",
       "      <td>6.0</td>\n",
       "      <td>NaN</td>\n",
       "      <td>NaN</td>\n",
       "      <td>NaN</td>\n",
       "      <td>NaN</td>\n",
       "      <td>NaN</td>\n",
       "      <td>5508</td>\n",
       "    </tr>\n",
       "    <tr>\n",
       "      <th>4</th>\n",
       "      <td>1</td>\n",
       "      <td>24</td>\n",
       "      <td>2</td>\n",
       "      <td>14</td>\n",
       "      <td>20</td>\n",
       "      <td>6</td>\n",
       "      <td>6.0</td>\n",
       "      <td>20</td>\n",
       "      <td>17</td>\n",
       "      <td>357.0</td>\n",
       "      <td>...</td>\n",
       "      <td>NaN</td>\n",
       "      <td>NaN</td>\n",
       "      <td>NaN</td>\n",
       "      <td>NaN</td>\n",
       "      <td>NaN</td>\n",
       "      <td>NaN</td>\n",
       "      <td>NaN</td>\n",
       "      <td>NaN</td>\n",
       "      <td>NaN</td>\n",
       "      <td>4828</td>\n",
       "    </tr>\n",
       "  </tbody>\n",
       "</table>\n",
       "<p>5 rows × 192 columns</p>\n",
       "</div>"
      ],
      "text/plain": [
       "   gender  idg  condtn  wave  round  position  positin1  order  partner  \\\n",
       "0       0    3       2    14     18         2       2.0     14       12   \n",
       "1       1   14       1     3     10         2       NaN      8        8   \n",
       "2       1   14       1    13     10         8       8.0     10       10   \n",
       "3       1   38       2     9     20        18      13.0      6        7   \n",
       "4       1   24       2    14     20         6       6.0     20       17   \n",
       "\n",
       "     pid  ...  sinc3_3  intel3_3  fun3_3  amb3_3  attr5_3  sinc5_3  intel5_3  \\\n",
       "0  372.0  ...      NaN       NaN     NaN     NaN      NaN      NaN       NaN   \n",
       "1   63.0  ...      8.0       8.0     7.0     8.0      NaN      NaN       NaN   \n",
       "2  331.0  ...      NaN       NaN     NaN     NaN      NaN      NaN       NaN   \n",
       "3  200.0  ...      9.0       8.0     8.0     6.0      NaN      NaN       NaN   \n",
       "4  357.0  ...      NaN       NaN     NaN     NaN      NaN      NaN       NaN   \n",
       "\n",
       "   fun5_3  amb5_3    id  \n",
       "0     NaN     NaN  2583  \n",
       "1     NaN     NaN  6830  \n",
       "2     NaN     NaN  4840  \n",
       "3     NaN     NaN  5508  \n",
       "4     NaN     NaN  4828  \n",
       "\n",
       "[5 rows x 192 columns]"
      ]
     },
     "execution_count": 3,
     "metadata": {},
     "output_type": "execute_result"
    }
   ],
   "source": [
    "# We will deal first with training data \n",
    "Tr_df.head()"
   ]
  },
  {
   "cell_type": "code",
   "execution_count": 4,
   "metadata": {},
   "outputs": [
    {
     "name": "stdout",
     "output_type": "stream",
     "text": [
      "<class 'pandas.core.frame.DataFrame'>\n",
      "RangeIndex: 5909 entries, 0 to 5908\n",
      "Columns: 192 entries, gender to id\n",
      "dtypes: float64(173), int64(11), object(8)\n",
      "memory usage: 8.7+ MB\n"
     ]
    }
   ],
   "source": [
    "# Some informations of df\n",
    "Tr_df.info()"
   ]
  },
  {
   "cell_type": "markdown",
   "metadata": {},
   "source": [
    "As we can see the data has 192 columns "
   ]
  },
  {
   "cell_type": "markdown",
   "metadata": {},
   "source": [
    "### Data Cleaning or Cleansing"
   ]
  },
  {
   "cell_type": "code",
   "execution_count": 5,
   "metadata": {},
   "outputs": [
    {
     "name": "stdout",
     "output_type": "stream",
     "text": [
      "(2469, 192)\n"
     ]
    }
   ],
   "source": [
    "Ts_df['match'] = 0 #add column match to test file before concat to make the test data the same size like train \n",
    "print(Ts_df.shape)#shape of test data "
   ]
  },
  {
   "cell_type": "code",
   "execution_count": 6,
   "metadata": {},
   "outputs": [],
   "source": [
    "# we will concat the train file with test file to make the preprocessing on the two together \n",
    "df = pd.concat([Tr_df,Ts_df],ignore_index=True, sort=False)"
   ]
  },
  {
   "cell_type": "code",
   "execution_count": 7,
   "metadata": {},
   "outputs": [
    {
     "data": {
      "text/html": [
       "<div>\n",
       "<style scoped>\n",
       "    .dataframe tbody tr th:only-of-type {\n",
       "        vertical-align: middle;\n",
       "    }\n",
       "\n",
       "    .dataframe tbody tr th {\n",
       "        vertical-align: top;\n",
       "    }\n",
       "\n",
       "    .dataframe thead th {\n",
       "        text-align: right;\n",
       "    }\n",
       "</style>\n",
       "<table border=\"1\" class=\"dataframe\">\n",
       "  <thead>\n",
       "    <tr style=\"text-align: right;\">\n",
       "      <th></th>\n",
       "      <th>gender</th>\n",
       "      <th>idg</th>\n",
       "      <th>condtn</th>\n",
       "      <th>wave</th>\n",
       "      <th>round</th>\n",
       "      <th>position</th>\n",
       "      <th>positin1</th>\n",
       "      <th>order</th>\n",
       "      <th>partner</th>\n",
       "      <th>pid</th>\n",
       "      <th>...</th>\n",
       "      <th>sinc3_3</th>\n",
       "      <th>intel3_3</th>\n",
       "      <th>fun3_3</th>\n",
       "      <th>amb3_3</th>\n",
       "      <th>attr5_3</th>\n",
       "      <th>sinc5_3</th>\n",
       "      <th>intel5_3</th>\n",
       "      <th>fun5_3</th>\n",
       "      <th>amb5_3</th>\n",
       "      <th>id</th>\n",
       "    </tr>\n",
       "  </thead>\n",
       "  <tbody>\n",
       "    <tr>\n",
       "      <th>0</th>\n",
       "      <td>0</td>\n",
       "      <td>3</td>\n",
       "      <td>2</td>\n",
       "      <td>14</td>\n",
       "      <td>18</td>\n",
       "      <td>2</td>\n",
       "      <td>2.0</td>\n",
       "      <td>14</td>\n",
       "      <td>12</td>\n",
       "      <td>372.0</td>\n",
       "      <td>...</td>\n",
       "      <td>NaN</td>\n",
       "      <td>NaN</td>\n",
       "      <td>NaN</td>\n",
       "      <td>NaN</td>\n",
       "      <td>NaN</td>\n",
       "      <td>NaN</td>\n",
       "      <td>NaN</td>\n",
       "      <td>NaN</td>\n",
       "      <td>NaN</td>\n",
       "      <td>2583</td>\n",
       "    </tr>\n",
       "    <tr>\n",
       "      <th>1</th>\n",
       "      <td>1</td>\n",
       "      <td>14</td>\n",
       "      <td>1</td>\n",
       "      <td>3</td>\n",
       "      <td>10</td>\n",
       "      <td>2</td>\n",
       "      <td>NaN</td>\n",
       "      <td>8</td>\n",
       "      <td>8</td>\n",
       "      <td>63.0</td>\n",
       "      <td>...</td>\n",
       "      <td>8.0</td>\n",
       "      <td>8.0</td>\n",
       "      <td>7.0</td>\n",
       "      <td>8.0</td>\n",
       "      <td>NaN</td>\n",
       "      <td>NaN</td>\n",
       "      <td>NaN</td>\n",
       "      <td>NaN</td>\n",
       "      <td>NaN</td>\n",
       "      <td>6830</td>\n",
       "    </tr>\n",
       "    <tr>\n",
       "      <th>2</th>\n",
       "      <td>1</td>\n",
       "      <td>14</td>\n",
       "      <td>1</td>\n",
       "      <td>13</td>\n",
       "      <td>10</td>\n",
       "      <td>8</td>\n",
       "      <td>8.0</td>\n",
       "      <td>10</td>\n",
       "      <td>10</td>\n",
       "      <td>331.0</td>\n",
       "      <td>...</td>\n",
       "      <td>NaN</td>\n",
       "      <td>NaN</td>\n",
       "      <td>NaN</td>\n",
       "      <td>NaN</td>\n",
       "      <td>NaN</td>\n",
       "      <td>NaN</td>\n",
       "      <td>NaN</td>\n",
       "      <td>NaN</td>\n",
       "      <td>NaN</td>\n",
       "      <td>4840</td>\n",
       "    </tr>\n",
       "    <tr>\n",
       "      <th>3</th>\n",
       "      <td>1</td>\n",
       "      <td>38</td>\n",
       "      <td>2</td>\n",
       "      <td>9</td>\n",
       "      <td>20</td>\n",
       "      <td>18</td>\n",
       "      <td>13.0</td>\n",
       "      <td>6</td>\n",
       "      <td>7</td>\n",
       "      <td>200.0</td>\n",
       "      <td>...</td>\n",
       "      <td>9.0</td>\n",
       "      <td>8.0</td>\n",
       "      <td>8.0</td>\n",
       "      <td>6.0</td>\n",
       "      <td>NaN</td>\n",
       "      <td>NaN</td>\n",
       "      <td>NaN</td>\n",
       "      <td>NaN</td>\n",
       "      <td>NaN</td>\n",
       "      <td>5508</td>\n",
       "    </tr>\n",
       "    <tr>\n",
       "      <th>4</th>\n",
       "      <td>1</td>\n",
       "      <td>24</td>\n",
       "      <td>2</td>\n",
       "      <td>14</td>\n",
       "      <td>20</td>\n",
       "      <td>6</td>\n",
       "      <td>6.0</td>\n",
       "      <td>20</td>\n",
       "      <td>17</td>\n",
       "      <td>357.0</td>\n",
       "      <td>...</td>\n",
       "      <td>NaN</td>\n",
       "      <td>NaN</td>\n",
       "      <td>NaN</td>\n",
       "      <td>NaN</td>\n",
       "      <td>NaN</td>\n",
       "      <td>NaN</td>\n",
       "      <td>NaN</td>\n",
       "      <td>NaN</td>\n",
       "      <td>NaN</td>\n",
       "      <td>4828</td>\n",
       "    </tr>\n",
       "  </tbody>\n",
       "</table>\n",
       "<p>5 rows × 192 columns</p>\n",
       "</div>"
      ],
      "text/plain": [
       "   gender  idg  condtn  wave  round  position  positin1  order  partner  \\\n",
       "0       0    3       2    14     18         2       2.0     14       12   \n",
       "1       1   14       1     3     10         2       NaN      8        8   \n",
       "2       1   14       1    13     10         8       8.0     10       10   \n",
       "3       1   38       2     9     20        18      13.0      6        7   \n",
       "4       1   24       2    14     20         6       6.0     20       17   \n",
       "\n",
       "     pid  ...  sinc3_3  intel3_3  fun3_3  amb3_3  attr5_3  sinc5_3  intel5_3  \\\n",
       "0  372.0  ...      NaN       NaN     NaN     NaN      NaN      NaN       NaN   \n",
       "1   63.0  ...      8.0       8.0     7.0     8.0      NaN      NaN       NaN   \n",
       "2  331.0  ...      NaN       NaN     NaN     NaN      NaN      NaN       NaN   \n",
       "3  200.0  ...      9.0       8.0     8.0     6.0      NaN      NaN       NaN   \n",
       "4  357.0  ...      NaN       NaN     NaN     NaN      NaN      NaN       NaN   \n",
       "\n",
       "   fun5_3  amb5_3    id  \n",
       "0     NaN     NaN  2583  \n",
       "1     NaN     NaN  6830  \n",
       "2     NaN     NaN  4840  \n",
       "3     NaN     NaN  5508  \n",
       "4     NaN     NaN  4828  \n",
       "\n",
       "[5 rows x 192 columns]"
      ]
     },
     "execution_count": 7,
     "metadata": {},
     "output_type": "execute_result"
    }
   ],
   "source": [
    "df.head()"
   ]
  },
  {
   "cell_type": "code",
   "execution_count": 8,
   "metadata": {},
   "outputs": [
    {
     "data": {
      "text/plain": [
       "(8378, 192)"
      ]
     },
     "execution_count": 8,
     "metadata": {},
     "output_type": "execute_result"
    }
   ],
   "source": [
    "df.shape # The shape of the test and train data "
   ]
  },
  {
   "cell_type": "code",
   "execution_count": 9,
   "metadata": {},
   "outputs": [
    {
     "data": {
      "text/plain": [
       "gender         0\n",
       "idg            0\n",
       "condtn         0\n",
       "wave           0\n",
       "round          0\n",
       "            ... \n",
       "sinc5_3     6362\n",
       "intel5_3    6362\n",
       "fun5_3      6362\n",
       "amb5_3      6362\n",
       "id             0\n",
       "Length: 192, dtype: int64"
      ]
     },
     "execution_count": 9,
     "metadata": {},
     "output_type": "execute_result"
    }
   ],
   "source": [
    "df.isnull().sum()"
   ]
  },
  {
   "cell_type": "markdown",
   "metadata": {},
   "source": [
    "#### We can notice that the data has lots of nulls so we need to deal with .\n",
    "#### Also we need to know the number of nulls in each columns and the highest columns which have nulls. "
   ]
  },
  {
   "cell_type": "code",
   "execution_count": 10,
   "metadata": {
    "scrolled": true
   },
   "outputs": [
    {
     "data": {
      "text/html": [
       "<div>\n",
       "<style scoped>\n",
       "    .dataframe tbody tr th:only-of-type {\n",
       "        vertical-align: middle;\n",
       "    }\n",
       "\n",
       "    .dataframe tbody tr th {\n",
       "        vertical-align: top;\n",
       "    }\n",
       "\n",
       "    .dataframe thead th {\n",
       "        text-align: right;\n",
       "    }\n",
       "</style>\n",
       "<table border=\"1\" class=\"dataframe\">\n",
       "  <thead>\n",
       "    <tr style=\"text-align: right;\">\n",
       "      <th></th>\n",
       "      <th>Null_vals</th>\n",
       "      <th>percent_</th>\n",
       "    </tr>\n",
       "  </thead>\n",
       "  <tbody>\n",
       "    <tr>\n",
       "      <th>num_in_3</th>\n",
       "      <td>7710</td>\n",
       "      <td>92.0</td>\n",
       "    </tr>\n",
       "    <tr>\n",
       "      <th>numdat_3</th>\n",
       "      <td>6882</td>\n",
       "      <td>82.0</td>\n",
       "    </tr>\n",
       "    <tr>\n",
       "      <th>expnum</th>\n",
       "      <td>6578</td>\n",
       "      <td>79.0</td>\n",
       "    </tr>\n",
       "    <tr>\n",
       "      <th>amb7_2</th>\n",
       "      <td>6423</td>\n",
       "      <td>77.0</td>\n",
       "    </tr>\n",
       "    <tr>\n",
       "      <th>sinc7_2</th>\n",
       "      <td>6423</td>\n",
       "      <td>77.0</td>\n",
       "    </tr>\n",
       "    <tr>\n",
       "      <th>shar2_3</th>\n",
       "      <td>6362</td>\n",
       "      <td>76.0</td>\n",
       "    </tr>\n",
       "    <tr>\n",
       "      <th>fun7_3</th>\n",
       "      <td>6362</td>\n",
       "      <td>76.0</td>\n",
       "    </tr>\n",
       "    <tr>\n",
       "      <th>intel7_3</th>\n",
       "      <td>6362</td>\n",
       "      <td>76.0</td>\n",
       "    </tr>\n",
       "    <tr>\n",
       "      <th>sinc7_3</th>\n",
       "      <td>6362</td>\n",
       "      <td>76.0</td>\n",
       "    </tr>\n",
       "    <tr>\n",
       "      <th>attr7_3</th>\n",
       "      <td>6362</td>\n",
       "      <td>76.0</td>\n",
       "    </tr>\n",
       "    <tr>\n",
       "      <th>shar7_2</th>\n",
       "      <td>6404</td>\n",
       "      <td>76.0</td>\n",
       "    </tr>\n",
       "    <tr>\n",
       "      <th>intel7_2</th>\n",
       "      <td>6394</td>\n",
       "      <td>76.0</td>\n",
       "    </tr>\n",
       "    <tr>\n",
       "      <th>fun7_2</th>\n",
       "      <td>6394</td>\n",
       "      <td>76.0</td>\n",
       "    </tr>\n",
       "    <tr>\n",
       "      <th>shar7_3</th>\n",
       "      <td>6362</td>\n",
       "      <td>76.0</td>\n",
       "    </tr>\n",
       "    <tr>\n",
       "      <th>attr7_2</th>\n",
       "      <td>6394</td>\n",
       "      <td>76.0</td>\n",
       "    </tr>\n",
       "    <tr>\n",
       "      <th>attr5_3</th>\n",
       "      <td>6362</td>\n",
       "      <td>76.0</td>\n",
       "    </tr>\n",
       "    <tr>\n",
       "      <th>sinc5_3</th>\n",
       "      <td>6362</td>\n",
       "      <td>76.0</td>\n",
       "    </tr>\n",
       "    <tr>\n",
       "      <th>intel5_3</th>\n",
       "      <td>6362</td>\n",
       "      <td>76.0</td>\n",
       "    </tr>\n",
       "    <tr>\n",
       "      <th>fun5_3</th>\n",
       "      <td>6362</td>\n",
       "      <td>76.0</td>\n",
       "    </tr>\n",
       "    <tr>\n",
       "      <th>amb5_3</th>\n",
       "      <td>6362</td>\n",
       "      <td>76.0</td>\n",
       "    </tr>\n",
       "    <tr>\n",
       "      <th>amb7_3</th>\n",
       "      <td>6362</td>\n",
       "      <td>76.0</td>\n",
       "    </tr>\n",
       "    <tr>\n",
       "      <th>amb2_3</th>\n",
       "      <td>5419</td>\n",
       "      <td>65.0</td>\n",
       "    </tr>\n",
       "    <tr>\n",
       "      <th>attr4_3</th>\n",
       "      <td>5419</td>\n",
       "      <td>65.0</td>\n",
       "    </tr>\n",
       "    <tr>\n",
       "      <th>shar4_3</th>\n",
       "      <td>5419</td>\n",
       "      <td>65.0</td>\n",
       "    </tr>\n",
       "    <tr>\n",
       "      <th>intel4_3</th>\n",
       "      <td>5419</td>\n",
       "      <td>65.0</td>\n",
       "    </tr>\n",
       "    <tr>\n",
       "      <th>fun4_3</th>\n",
       "      <td>5419</td>\n",
       "      <td>65.0</td>\n",
       "    </tr>\n",
       "    <tr>\n",
       "      <th>amb4_3</th>\n",
       "      <td>5419</td>\n",
       "      <td>65.0</td>\n",
       "    </tr>\n",
       "    <tr>\n",
       "      <th>fun2_3</th>\n",
       "      <td>5419</td>\n",
       "      <td>65.0</td>\n",
       "    </tr>\n",
       "    <tr>\n",
       "      <th>intel2_3</th>\n",
       "      <td>5419</td>\n",
       "      <td>65.0</td>\n",
       "    </tr>\n",
       "    <tr>\n",
       "      <th>sinc2_3</th>\n",
       "      <td>5419</td>\n",
       "      <td>65.0</td>\n",
       "    </tr>\n",
       "    <tr>\n",
       "      <th>sinc4_3</th>\n",
       "      <td>5419</td>\n",
       "      <td>65.0</td>\n",
       "    </tr>\n",
       "    <tr>\n",
       "      <th>attr2_3</th>\n",
       "      <td>5419</td>\n",
       "      <td>65.0</td>\n",
       "    </tr>\n",
       "    <tr>\n",
       "      <th>mn_sat</th>\n",
       "      <td>5245</td>\n",
       "      <td>63.0</td>\n",
       "    </tr>\n",
       "    <tr>\n",
       "      <th>tuition</th>\n",
       "      <td>4795</td>\n",
       "      <td>57.0</td>\n",
       "    </tr>\n",
       "    <tr>\n",
       "      <th>attr1_3</th>\n",
       "      <td>4404</td>\n",
       "      <td>53.0</td>\n",
       "    </tr>\n",
       "    <tr>\n",
       "      <th>intel1_3</th>\n",
       "      <td>4404</td>\n",
       "      <td>53.0</td>\n",
       "    </tr>\n",
       "    <tr>\n",
       "      <th>shar1_3</th>\n",
       "      <td>4404</td>\n",
       "      <td>53.0</td>\n",
       "    </tr>\n",
       "    <tr>\n",
       "      <th>attr3_3</th>\n",
       "      <td>4404</td>\n",
       "      <td>53.0</td>\n",
       "    </tr>\n",
       "    <tr>\n",
       "      <th>fun3_3</th>\n",
       "      <td>4404</td>\n",
       "      <td>53.0</td>\n",
       "    </tr>\n",
       "    <tr>\n",
       "      <th>intel3_3</th>\n",
       "      <td>4404</td>\n",
       "      <td>53.0</td>\n",
       "    </tr>\n",
       "    <tr>\n",
       "      <th>amb1_3</th>\n",
       "      <td>4404</td>\n",
       "      <td>53.0</td>\n",
       "    </tr>\n",
       "    <tr>\n",
       "      <th>sinc3_3</th>\n",
       "      <td>4404</td>\n",
       "      <td>53.0</td>\n",
       "    </tr>\n",
       "    <tr>\n",
       "      <th>fun1_3</th>\n",
       "      <td>4404</td>\n",
       "      <td>53.0</td>\n",
       "    </tr>\n",
       "    <tr>\n",
       "      <th>amb3_3</th>\n",
       "      <td>4404</td>\n",
       "      <td>53.0</td>\n",
       "    </tr>\n",
       "    <tr>\n",
       "      <th>sinc1_3</th>\n",
       "      <td>4404</td>\n",
       "      <td>53.0</td>\n",
       "    </tr>\n",
       "    <tr>\n",
       "      <th>date_3</th>\n",
       "      <td>4404</td>\n",
       "      <td>53.0</td>\n",
       "    </tr>\n",
       "    <tr>\n",
       "      <th>you_call</th>\n",
       "      <td>4404</td>\n",
       "      <td>53.0</td>\n",
       "    </tr>\n",
       "    <tr>\n",
       "      <th>them_cal</th>\n",
       "      <td>4404</td>\n",
       "      <td>53.0</td>\n",
       "    </tr>\n",
       "    <tr>\n",
       "      <th>attr3_s</th>\n",
       "      <td>4378</td>\n",
       "      <td>52.0</td>\n",
       "    </tr>\n",
       "    <tr>\n",
       "      <th>amb3_s</th>\n",
       "      <td>4378</td>\n",
       "      <td>52.0</td>\n",
       "    </tr>\n",
       "  </tbody>\n",
       "</table>\n",
       "</div>"
      ],
      "text/plain": [
       "          Null_vals  percent_\n",
       "num_in_3       7710      92.0\n",
       "numdat_3       6882      82.0\n",
       "expnum         6578      79.0\n",
       "amb7_2         6423      77.0\n",
       "sinc7_2        6423      77.0\n",
       "shar2_3        6362      76.0\n",
       "fun7_3         6362      76.0\n",
       "intel7_3       6362      76.0\n",
       "sinc7_3        6362      76.0\n",
       "attr7_3        6362      76.0\n",
       "shar7_2        6404      76.0\n",
       "intel7_2       6394      76.0\n",
       "fun7_2         6394      76.0\n",
       "shar7_3        6362      76.0\n",
       "attr7_2        6394      76.0\n",
       "attr5_3        6362      76.0\n",
       "sinc5_3        6362      76.0\n",
       "intel5_3       6362      76.0\n",
       "fun5_3         6362      76.0\n",
       "amb5_3         6362      76.0\n",
       "amb7_3         6362      76.0\n",
       "amb2_3         5419      65.0\n",
       "attr4_3        5419      65.0\n",
       "shar4_3        5419      65.0\n",
       "intel4_3       5419      65.0\n",
       "fun4_3         5419      65.0\n",
       "amb4_3         5419      65.0\n",
       "fun2_3         5419      65.0\n",
       "intel2_3       5419      65.0\n",
       "sinc2_3        5419      65.0\n",
       "sinc4_3        5419      65.0\n",
       "attr2_3        5419      65.0\n",
       "mn_sat         5245      63.0\n",
       "tuition        4795      57.0\n",
       "attr1_3        4404      53.0\n",
       "intel1_3       4404      53.0\n",
       "shar1_3        4404      53.0\n",
       "attr3_3        4404      53.0\n",
       "fun3_3         4404      53.0\n",
       "intel3_3       4404      53.0\n",
       "amb1_3         4404      53.0\n",
       "sinc3_3        4404      53.0\n",
       "fun1_3         4404      53.0\n",
       "amb3_3         4404      53.0\n",
       "sinc1_3        4404      53.0\n",
       "date_3         4404      53.0\n",
       "you_call       4404      53.0\n",
       "them_cal       4404      53.0\n",
       "attr3_s        4378      52.0\n",
       "amb3_s         4378      52.0"
      ]
     },
     "execution_count": 10,
     "metadata": {},
     "output_type": "execute_result"
    }
   ],
   "source": [
    "#we will return the first 50 columns that have null values\n",
    "Col_null_vals = pd.DataFrame(df.isnull().sum())\n",
    "Col_null_vals.columns = ['Null_vals'] # To name the columns which has the null values\n",
    "Col_null_vals['percent_'] = round(Col_null_vals['Null_vals'] / len(df.index), 2) * 100\n",
    "Col_null_vals.sort_values('percent_', ascending = False)[:50]#make dataframe and calc percent of null values for each columns"
   ]
  },
  {
   "cell_type": "code",
   "execution_count": 11,
   "metadata": {},
   "outputs": [
    {
     "data": {
      "text/plain": [
       "(['mn_sat',\n",
       "  'expnum',\n",
       "  'attr7_2',\n",
       "  'sinc7_2',\n",
       "  'intel7_2',\n",
       "  'fun7_2',\n",
       "  'amb7_2',\n",
       "  'shar7_2',\n",
       "  'numdat_3',\n",
       "  'num_in_3',\n",
       "  'attr7_3',\n",
       "  'sinc7_3',\n",
       "  'intel7_3',\n",
       "  'fun7_3',\n",
       "  'amb7_3',\n",
       "  'shar7_3',\n",
       "  'attr4_3',\n",
       "  'sinc4_3',\n",
       "  'intel4_3',\n",
       "  'fun4_3',\n",
       "  'amb4_3',\n",
       "  'shar4_3',\n",
       "  'attr2_3',\n",
       "  'sinc2_3',\n",
       "  'intel2_3',\n",
       "  'fun2_3',\n",
       "  'amb2_3',\n",
       "  'shar2_3',\n",
       "  'attr5_3',\n",
       "  'sinc5_3',\n",
       "  'intel5_3',\n",
       "  'fun5_3',\n",
       "  'amb5_3'],\n",
       " 33)"
      ]
     },
     "execution_count": 11,
     "metadata": {},
     "output_type": "execute_result"
    }
   ],
   "source": [
    "# We will drop the columns which is bigger than 63\n",
    "index=[row for row in Col_null_vals.index if Col_null_vals.loc[row, 'percent_'] >= 63]\n",
    "index, len(index)"
   ]
  },
  {
   "cell_type": "code",
   "execution_count": 12,
   "metadata": {},
   "outputs": [],
   "source": [
    "df = df.drop(columns=index) # We drop 33 columns "
   ]
  },
  {
   "cell_type": "code",
   "execution_count": 13,
   "metadata": {},
   "outputs": [
    {
     "name": "stdout",
     "output_type": "stream",
     "text": [
      "<class 'pandas.core.frame.DataFrame'>\n",
      "RangeIndex: 8378 entries, 0 to 8377\n",
      "Columns: 159 entries, gender to id\n",
      "dtypes: float64(141), int64(11), object(7)\n",
      "memory usage: 10.2+ MB\n"
     ]
    }
   ],
   "source": [
    "df.info()"
   ]
  },
  {
   "cell_type": "code",
   "execution_count": 14,
   "metadata": {},
   "outputs": [
    {
     "data": {
      "text/html": [
       "<div>\n",
       "<style scoped>\n",
       "    .dataframe tbody tr th:only-of-type {\n",
       "        vertical-align: middle;\n",
       "    }\n",
       "\n",
       "    .dataframe tbody tr th {\n",
       "        vertical-align: top;\n",
       "    }\n",
       "\n",
       "    .dataframe thead th {\n",
       "        text-align: right;\n",
       "    }\n",
       "</style>\n",
       "<table border=\"1\" class=\"dataframe\">\n",
       "  <thead>\n",
       "    <tr style=\"text-align: right;\">\n",
       "      <th></th>\n",
       "      <th>gender</th>\n",
       "      <th>idg</th>\n",
       "      <th>condtn</th>\n",
       "      <th>wave</th>\n",
       "      <th>round</th>\n",
       "      <th>position</th>\n",
       "      <th>positin1</th>\n",
       "      <th>order</th>\n",
       "      <th>partner</th>\n",
       "      <th>pid</th>\n",
       "      <th>...</th>\n",
       "      <th>intel1_3</th>\n",
       "      <th>fun1_3</th>\n",
       "      <th>amb1_3</th>\n",
       "      <th>shar1_3</th>\n",
       "      <th>attr3_3</th>\n",
       "      <th>sinc3_3</th>\n",
       "      <th>intel3_3</th>\n",
       "      <th>fun3_3</th>\n",
       "      <th>amb3_3</th>\n",
       "      <th>id</th>\n",
       "    </tr>\n",
       "  </thead>\n",
       "  <tbody>\n",
       "    <tr>\n",
       "      <th>count</th>\n",
       "      <td>8378.000000</td>\n",
       "      <td>8378.000000</td>\n",
       "      <td>8378.000000</td>\n",
       "      <td>8378.000000</td>\n",
       "      <td>8378.000000</td>\n",
       "      <td>8378.000000</td>\n",
       "      <td>6532.000000</td>\n",
       "      <td>8378.000000</td>\n",
       "      <td>8378.000000</td>\n",
       "      <td>8368.000000</td>\n",
       "      <td>...</td>\n",
       "      <td>3974.000000</td>\n",
       "      <td>3974.000000</td>\n",
       "      <td>3974.000000</td>\n",
       "      <td>3974.000000</td>\n",
       "      <td>3974.000000</td>\n",
       "      <td>3974.000000</td>\n",
       "      <td>3974.000000</td>\n",
       "      <td>3974.000000</td>\n",
       "      <td>3974.000000</td>\n",
       "      <td>8378.000000</td>\n",
       "    </tr>\n",
       "    <tr>\n",
       "      <th>mean</th>\n",
       "      <td>0.500597</td>\n",
       "      <td>17.327166</td>\n",
       "      <td>1.828837</td>\n",
       "      <td>11.350919</td>\n",
       "      <td>16.872046</td>\n",
       "      <td>9.042731</td>\n",
       "      <td>9.295775</td>\n",
       "      <td>8.927668</td>\n",
       "      <td>8.963595</td>\n",
       "      <td>283.863767</td>\n",
       "      <td>...</td>\n",
       "      <td>19.411346</td>\n",
       "      <td>16.233415</td>\n",
       "      <td>10.898075</td>\n",
       "      <td>12.699142</td>\n",
       "      <td>7.240312</td>\n",
       "      <td>8.093357</td>\n",
       "      <td>8.388777</td>\n",
       "      <td>7.658782</td>\n",
       "      <td>7.391545</td>\n",
       "      <td>4188.500000</td>\n",
       "    </tr>\n",
       "    <tr>\n",
       "      <th>std</th>\n",
       "      <td>0.500029</td>\n",
       "      <td>10.940735</td>\n",
       "      <td>0.376673</td>\n",
       "      <td>5.995903</td>\n",
       "      <td>4.358458</td>\n",
       "      <td>5.514939</td>\n",
       "      <td>5.650199</td>\n",
       "      <td>5.477009</td>\n",
       "      <td>5.491068</td>\n",
       "      <td>158.584899</td>\n",
       "      <td>...</td>\n",
       "      <td>6.124502</td>\n",
       "      <td>5.163777</td>\n",
       "      <td>5.900697</td>\n",
       "      <td>6.557041</td>\n",
       "      <td>1.576596</td>\n",
       "      <td>1.610309</td>\n",
       "      <td>1.459094</td>\n",
       "      <td>1.744670</td>\n",
       "      <td>1.961417</td>\n",
       "      <td>2418.664611</td>\n",
       "    </tr>\n",
       "    <tr>\n",
       "      <th>min</th>\n",
       "      <td>0.000000</td>\n",
       "      <td>1.000000</td>\n",
       "      <td>1.000000</td>\n",
       "      <td>1.000000</td>\n",
       "      <td>5.000000</td>\n",
       "      <td>1.000000</td>\n",
       "      <td>1.000000</td>\n",
       "      <td>1.000000</td>\n",
       "      <td>1.000000</td>\n",
       "      <td>1.000000</td>\n",
       "      <td>...</td>\n",
       "      <td>0.000000</td>\n",
       "      <td>0.000000</td>\n",
       "      <td>0.000000</td>\n",
       "      <td>0.000000</td>\n",
       "      <td>2.000000</td>\n",
       "      <td>2.000000</td>\n",
       "      <td>3.000000</td>\n",
       "      <td>2.000000</td>\n",
       "      <td>1.000000</td>\n",
       "      <td>0.000000</td>\n",
       "    </tr>\n",
       "    <tr>\n",
       "      <th>25%</th>\n",
       "      <td>0.000000</td>\n",
       "      <td>8.000000</td>\n",
       "      <td>2.000000</td>\n",
       "      <td>7.000000</td>\n",
       "      <td>14.000000</td>\n",
       "      <td>4.000000</td>\n",
       "      <td>4.000000</td>\n",
       "      <td>4.000000</td>\n",
       "      <td>4.000000</td>\n",
       "      <td>154.000000</td>\n",
       "      <td>...</td>\n",
       "      <td>16.670000</td>\n",
       "      <td>14.810000</td>\n",
       "      <td>5.000000</td>\n",
       "      <td>10.000000</td>\n",
       "      <td>7.000000</td>\n",
       "      <td>7.000000</td>\n",
       "      <td>8.000000</td>\n",
       "      <td>7.000000</td>\n",
       "      <td>6.000000</td>\n",
       "      <td>2094.250000</td>\n",
       "    </tr>\n",
       "    <tr>\n",
       "      <th>50%</th>\n",
       "      <td>1.000000</td>\n",
       "      <td>16.000000</td>\n",
       "      <td>2.000000</td>\n",
       "      <td>11.000000</td>\n",
       "      <td>18.000000</td>\n",
       "      <td>8.000000</td>\n",
       "      <td>9.000000</td>\n",
       "      <td>8.000000</td>\n",
       "      <td>8.000000</td>\n",
       "      <td>281.000000</td>\n",
       "      <td>...</td>\n",
       "      <td>20.000000</td>\n",
       "      <td>16.330000</td>\n",
       "      <td>10.000000</td>\n",
       "      <td>14.290000</td>\n",
       "      <td>7.000000</td>\n",
       "      <td>8.000000</td>\n",
       "      <td>8.000000</td>\n",
       "      <td>8.000000</td>\n",
       "      <td>8.000000</td>\n",
       "      <td>4188.500000</td>\n",
       "    </tr>\n",
       "    <tr>\n",
       "      <th>75%</th>\n",
       "      <td>1.000000</td>\n",
       "      <td>26.000000</td>\n",
       "      <td>2.000000</td>\n",
       "      <td>15.000000</td>\n",
       "      <td>20.000000</td>\n",
       "      <td>13.000000</td>\n",
       "      <td>14.000000</td>\n",
       "      <td>13.000000</td>\n",
       "      <td>13.000000</td>\n",
       "      <td>408.000000</td>\n",
       "      <td>...</td>\n",
       "      <td>20.000000</td>\n",
       "      <td>20.000000</td>\n",
       "      <td>15.000000</td>\n",
       "      <td>16.670000</td>\n",
       "      <td>8.000000</td>\n",
       "      <td>9.000000</td>\n",
       "      <td>9.000000</td>\n",
       "      <td>9.000000</td>\n",
       "      <td>9.000000</td>\n",
       "      <td>6282.750000</td>\n",
       "    </tr>\n",
       "    <tr>\n",
       "      <th>max</th>\n",
       "      <td>1.000000</td>\n",
       "      <td>44.000000</td>\n",
       "      <td>2.000000</td>\n",
       "      <td>21.000000</td>\n",
       "      <td>22.000000</td>\n",
       "      <td>22.000000</td>\n",
       "      <td>22.000000</td>\n",
       "      <td>22.000000</td>\n",
       "      <td>22.000000</td>\n",
       "      <td>552.000000</td>\n",
       "      <td>...</td>\n",
       "      <td>45.000000</td>\n",
       "      <td>30.000000</td>\n",
       "      <td>30.000000</td>\n",
       "      <td>55.000000</td>\n",
       "      <td>12.000000</td>\n",
       "      <td>12.000000</td>\n",
       "      <td>12.000000</td>\n",
       "      <td>12.000000</td>\n",
       "      <td>12.000000</td>\n",
       "      <td>8377.000000</td>\n",
       "    </tr>\n",
       "  </tbody>\n",
       "</table>\n",
       "<p>8 rows × 152 columns</p>\n",
       "</div>"
      ],
      "text/plain": [
       "            gender          idg       condtn         wave        round  \\\n",
       "count  8378.000000  8378.000000  8378.000000  8378.000000  8378.000000   \n",
       "mean      0.500597    17.327166     1.828837    11.350919    16.872046   \n",
       "std       0.500029    10.940735     0.376673     5.995903     4.358458   \n",
       "min       0.000000     1.000000     1.000000     1.000000     5.000000   \n",
       "25%       0.000000     8.000000     2.000000     7.000000    14.000000   \n",
       "50%       1.000000    16.000000     2.000000    11.000000    18.000000   \n",
       "75%       1.000000    26.000000     2.000000    15.000000    20.000000   \n",
       "max       1.000000    44.000000     2.000000    21.000000    22.000000   \n",
       "\n",
       "          position     positin1        order      partner          pid  ...  \\\n",
       "count  8378.000000  6532.000000  8378.000000  8378.000000  8368.000000  ...   \n",
       "mean      9.042731     9.295775     8.927668     8.963595   283.863767  ...   \n",
       "std       5.514939     5.650199     5.477009     5.491068   158.584899  ...   \n",
       "min       1.000000     1.000000     1.000000     1.000000     1.000000  ...   \n",
       "25%       4.000000     4.000000     4.000000     4.000000   154.000000  ...   \n",
       "50%       8.000000     9.000000     8.000000     8.000000   281.000000  ...   \n",
       "75%      13.000000    14.000000    13.000000    13.000000   408.000000  ...   \n",
       "max      22.000000    22.000000    22.000000    22.000000   552.000000  ...   \n",
       "\n",
       "          intel1_3       fun1_3       amb1_3      shar1_3      attr3_3  \\\n",
       "count  3974.000000  3974.000000  3974.000000  3974.000000  3974.000000   \n",
       "mean     19.411346    16.233415    10.898075    12.699142     7.240312   \n",
       "std       6.124502     5.163777     5.900697     6.557041     1.576596   \n",
       "min       0.000000     0.000000     0.000000     0.000000     2.000000   \n",
       "25%      16.670000    14.810000     5.000000    10.000000     7.000000   \n",
       "50%      20.000000    16.330000    10.000000    14.290000     7.000000   \n",
       "75%      20.000000    20.000000    15.000000    16.670000     8.000000   \n",
       "max      45.000000    30.000000    30.000000    55.000000    12.000000   \n",
       "\n",
       "           sinc3_3     intel3_3       fun3_3       amb3_3           id  \n",
       "count  3974.000000  3974.000000  3974.000000  3974.000000  8378.000000  \n",
       "mean      8.093357     8.388777     7.658782     7.391545  4188.500000  \n",
       "std       1.610309     1.459094     1.744670     1.961417  2418.664611  \n",
       "min       2.000000     3.000000     2.000000     1.000000     0.000000  \n",
       "25%       7.000000     8.000000     7.000000     6.000000  2094.250000  \n",
       "50%       8.000000     8.000000     8.000000     8.000000  4188.500000  \n",
       "75%       9.000000     9.000000     9.000000     9.000000  6282.750000  \n",
       "max      12.000000    12.000000    12.000000    12.000000  8377.000000  \n",
       "\n",
       "[8 rows x 152 columns]"
      ]
     },
     "execution_count": 14,
     "metadata": {},
     "output_type": "execute_result"
    }
   ],
   "source": [
    "df.describe()"
   ]
  },
  {
   "cell_type": "code",
   "execution_count": 15,
   "metadata": {},
   "outputs": [
    {
     "name": "stdout",
     "output_type": "stream",
     "text": [
      "<class 'pandas.core.frame.DataFrame'>\n",
      "Int64Index: 8378 entries, 2583 to 6691\n",
      "Columns: 158 entries, gender to amb3_3\n",
      "dtypes: float64(141), int64(10), object(7)\n",
      "memory usage: 10.2+ MB\n"
     ]
    }
   ],
   "source": [
    "df = df.set_index('id') # we will make the id the index of the df \n",
    "df.info()"
   ]
  },
  {
   "cell_type": "markdown",
   "metadata": {},
   "source": [
    "### After what we see in df.describe() the number of categorical columns are 152 and the total columns are 159, so there are 7 categorical columns since the describe function deals only with numerical columns "
   ]
  },
  {
   "cell_type": "code",
   "execution_count": 16,
   "metadata": {
    "scrolled": true
   },
   "outputs": [
    {
     "data": {
      "text/html": [
       "<div>\n",
       "<style scoped>\n",
       "    .dataframe tbody tr th:only-of-type {\n",
       "        vertical-align: middle;\n",
       "    }\n",
       "\n",
       "    .dataframe tbody tr th {\n",
       "        vertical-align: top;\n",
       "    }\n",
       "\n",
       "    .dataframe thead th {\n",
       "        text-align: right;\n",
       "    }\n",
       "</style>\n",
       "<table border=\"1\" class=\"dataframe\">\n",
       "  <thead>\n",
       "    <tr style=\"text-align: right;\">\n",
       "      <th></th>\n",
       "      <th>field</th>\n",
       "      <th>undergra</th>\n",
       "      <th>tuition</th>\n",
       "      <th>from</th>\n",
       "      <th>zipcode</th>\n",
       "      <th>income</th>\n",
       "      <th>career</th>\n",
       "    </tr>\n",
       "    <tr>\n",
       "      <th>id</th>\n",
       "      <th></th>\n",
       "      <th></th>\n",
       "      <th></th>\n",
       "      <th></th>\n",
       "      <th></th>\n",
       "      <th></th>\n",
       "      <th></th>\n",
       "    </tr>\n",
       "  </thead>\n",
       "  <tbody>\n",
       "    <tr>\n",
       "      <th>2583</th>\n",
       "      <td>Ed.D. in higher education policy at TC</td>\n",
       "      <td>University of Michigan-Ann Arbor</td>\n",
       "      <td>21,645.00</td>\n",
       "      <td>Palo Alto, CA</td>\n",
       "      <td>NaN</td>\n",
       "      <td>NaN</td>\n",
       "      <td>University President</td>\n",
       "    </tr>\n",
       "    <tr>\n",
       "      <th>6830</th>\n",
       "      <td>Engineering</td>\n",
       "      <td>NaN</td>\n",
       "      <td>NaN</td>\n",
       "      <td>Boston, MA</td>\n",
       "      <td>2,021</td>\n",
       "      <td>NaN</td>\n",
       "      <td>Engineer or iBanker or consultant</td>\n",
       "    </tr>\n",
       "    <tr>\n",
       "      <th>4840</th>\n",
       "      <td>Urban Planning</td>\n",
       "      <td>Rizvi College of Architecture, Bombay University</td>\n",
       "      <td>NaN</td>\n",
       "      <td>Bombay, India</td>\n",
       "      <td>NaN</td>\n",
       "      <td>NaN</td>\n",
       "      <td>Real Estate Consulting</td>\n",
       "    </tr>\n",
       "    <tr>\n",
       "      <th>5508</th>\n",
       "      <td>International Affairs</td>\n",
       "      <td>NaN</td>\n",
       "      <td>NaN</td>\n",
       "      <td>Washington, DC</td>\n",
       "      <td>10,471</td>\n",
       "      <td>45,300.00</td>\n",
       "      <td>public service</td>\n",
       "    </tr>\n",
       "    <tr>\n",
       "      <th>4828</th>\n",
       "      <td>Business</td>\n",
       "      <td>Harvard College</td>\n",
       "      <td>26,019.00</td>\n",
       "      <td>Midwest USA</td>\n",
       "      <td>66,208</td>\n",
       "      <td>46,138.00</td>\n",
       "      <td>undecided</td>\n",
       "    </tr>\n",
       "    <tr>\n",
       "      <th>...</th>\n",
       "      <td>...</td>\n",
       "      <td>...</td>\n",
       "      <td>...</td>\n",
       "      <td>...</td>\n",
       "      <td>...</td>\n",
       "      <td>...</td>\n",
       "      <td>...</td>\n",
       "    </tr>\n",
       "    <tr>\n",
       "      <th>7982</th>\n",
       "      <td>Neuroscience and Education</td>\n",
       "      <td>Columbia</td>\n",
       "      <td>26,908.00</td>\n",
       "      <td>Hong Kong</td>\n",
       "      <td>0</td>\n",
       "      <td>NaN</td>\n",
       "      <td>Academic</td>\n",
       "    </tr>\n",
       "    <tr>\n",
       "      <th>7299</th>\n",
       "      <td>School Psychology</td>\n",
       "      <td>Bucknell University</td>\n",
       "      <td>25,335.00</td>\n",
       "      <td>Erie, PA</td>\n",
       "      <td>NaN</td>\n",
       "      <td>NaN</td>\n",
       "      <td>school psychologist</td>\n",
       "    </tr>\n",
       "    <tr>\n",
       "      <th>1818</th>\n",
       "      <td>Law</td>\n",
       "      <td>NaN</td>\n",
       "      <td>NaN</td>\n",
       "      <td>Brooklyn</td>\n",
       "      <td>11,204</td>\n",
       "      <td>26,482.00</td>\n",
       "      <td>Intellectual Property Attorney</td>\n",
       "    </tr>\n",
       "    <tr>\n",
       "      <th>937</th>\n",
       "      <td>Mathematics</td>\n",
       "      <td>NaN</td>\n",
       "      <td>NaN</td>\n",
       "      <td>Vestal</td>\n",
       "      <td>13,850</td>\n",
       "      <td>42,640.00</td>\n",
       "      <td>college professor</td>\n",
       "    </tr>\n",
       "    <tr>\n",
       "      <th>6691</th>\n",
       "      <td>General management/finance</td>\n",
       "      <td>LUISS, Rome</td>\n",
       "      <td>NaN</td>\n",
       "      <td>Italy</td>\n",
       "      <td>136</td>\n",
       "      <td>NaN</td>\n",
       "      <td>General management/consulting</td>\n",
       "    </tr>\n",
       "  </tbody>\n",
       "</table>\n",
       "<p>8378 rows × 7 columns</p>\n",
       "</div>"
      ],
      "text/plain": [
       "                                       field  \\\n",
       "id                                             \n",
       "2583  Ed.D. in higher education policy at TC   \n",
       "6830                             Engineering   \n",
       "4840                          Urban Planning   \n",
       "5508                   International Affairs   \n",
       "4828                                Business   \n",
       "...                                      ...   \n",
       "7982              Neuroscience and Education   \n",
       "7299                       School Psychology   \n",
       "1818                                     Law   \n",
       "937                              Mathematics   \n",
       "6691              General management/finance   \n",
       "\n",
       "                                              undergra    tuition  \\\n",
       "id                                                                  \n",
       "2583                  University of Michigan-Ann Arbor  21,645.00   \n",
       "6830                                               NaN        NaN   \n",
       "4840  Rizvi College of Architecture, Bombay University        NaN   \n",
       "5508                                               NaN        NaN   \n",
       "4828                                   Harvard College  26,019.00   \n",
       "...                                                ...        ...   \n",
       "7982                                          Columbia  26,908.00   \n",
       "7299                               Bucknell University  25,335.00   \n",
       "1818                                               NaN        NaN   \n",
       "937                                                NaN        NaN   \n",
       "6691                                       LUISS, Rome        NaN   \n",
       "\n",
       "                from zipcode     income                             career  \n",
       "id                                                                          \n",
       "2583   Palo Alto, CA     NaN        NaN               University President  \n",
       "6830      Boston, MA   2,021        NaN  Engineer or iBanker or consultant  \n",
       "4840   Bombay, India     NaN        NaN             Real Estate Consulting  \n",
       "5508  Washington, DC  10,471  45,300.00                     public service  \n",
       "4828     Midwest USA  66,208  46,138.00                          undecided  \n",
       "...              ...     ...        ...                                ...  \n",
       "7982       Hong Kong       0        NaN                           Academic  \n",
       "7299        Erie, PA     NaN        NaN                school psychologist  \n",
       "1818        Brooklyn  11,204  26,482.00     Intellectual Property Attorney  \n",
       "937           Vestal  13,850  42,640.00                  college professor  \n",
       "6691           Italy     136        NaN      General management/consulting  \n",
       "\n",
       "[8378 rows x 7 columns]"
      ]
     },
     "execution_count": 16,
     "metadata": {},
     "output_type": "execute_result"
    }
   ],
   "source": [
    "Cat_cols_selector = selector(dtype_include=object) # take an instance that select the cat cols \n",
    "# return list with the names of cat cols['field', 'undergra', 'tuition', 'from', 'zipcode', 'income', 'career']\n",
    "Cat_cols = Cat_cols_selector(df) \n",
    "df[Cat_cols] # To see the contant of these cols  and as we can see they are 7 cols"
   ]
  },
  {
   "cell_type": "markdown",
   "metadata": {},
   "source": [
    "# Virtualization of the columns to take insights from them"
   ]
  },
  {
   "cell_type": "markdown",
   "metadata": {},
   "source": [
    "# For 'age' and 'age_o' columns"
   ]
  },
  {
   "cell_type": "code",
   "execution_count": 17,
   "metadata": {},
   "outputs": [],
   "source": [
    "# MAKE A FUNCTION THAT USED TO PLOT COLUM\n",
    "def Hist_Plot(column_name):\n",
    "  fig, ax = plt.subplots(figsize=(15, 8))\n",
    "  sns.countplot(column_name, data = df, order = df[column_name].value_counts().index, ax = ax)\n",
    "  ax.set(xlabel=column_name, ylabel='Count')\n",
    "  plt.xticks(rotation=45, ha='right')\n",
    "  plt.show()"
   ]
  },
  {
   "cell_type": "code",
   "execution_count": 18,
   "metadata": {},
   "outputs": [
    {
     "data": {
      "image/png": "[encoded data removed]",
      "text/plain": [
       "<Figure size 1080x576 with 1 Axes>"
      ]
     },
     "metadata": {},
     "output_type": "display_data"
    }
   ],
   "source": [
    "Hist_Plot('age')"
   ]
  },
  {
   "cell_type": "code",
   "execution_count": 19,
   "metadata": {},
   "outputs": [
    {
     "data": {
      "image/png": "[encoded data removed]",
      "text/plain": [
       "<Figure size 1080x576 with 1 Axes>"
      ]
     },
     "metadata": {},
     "output_type": "display_data"
    }
   ],
   "source": [
    "Hist_Plot('age_o')"
   ]
  },
  {
   "cell_type": "markdown",
   "metadata": {},
   "source": [
    "* From the above two, we notice that the age_o and age columns are the same, so we will drop one of them "
   ]
  },
  {
   "cell_type": "markdown",
   "metadata": {},
   "source": [
    "# For 'field' and 'field_cd' columns"
   ]
  },
  {
   "cell_type": "markdown",
   "metadata": {},
   "source": [
    "**field: field of study**\n",
    "\n",
    "**field_cd: field coded**\n",
    "-    1= Law \n",
    "-    2= Math\n",
    "-    3= Social Science, Psychologist \n",
    "-    4= Medical Science, Pharmaceuticals, and Bio Tech \n",
    "-    5= Engineering \n",
    "-    6= English/Creative Writing/ Journalism \n",
    "-    7= History/Religion/Philosophy \n",
    "-    8= Business/Econ/Finance \n",
    "-    9= Education, Academia \n",
    "-    10= Biological Sciences/Chemistry/Physics\n",
    "-    11= Social Work \n",
    "-    12= Undergrad/undecided \n",
    "-    13=Political Science/International Affairs \n",
    "-    14=Film\n",
    "-    15=Fine Arts/Arts Administration\n",
    "-    16=Languages\n",
    "-    17=Architecture\n",
    "-    18=Other"
   ]
  },
  {
   "cell_type": "markdown",
   "metadata": {},
   "source": [
    "From the report, As we can see the 'field_cd' is the label encoding for the column 'field' so we can drop this column."
   ]
  },
  {
   "cell_type": "markdown",
   "metadata": {},
   "source": [
    "# For 'career ' and 'career_c' columns"
   ]
  },
  {
   "cell_type": "markdown",
   "metadata": {},
   "source": [
    "**career** What is your intended career?\n",
    "\n",
    "**career_c: career coded**\n",
    "- 1= Lawyer \n",
    "- 2= Academic/Research \n",
    "- 3= Psychologist \n",
    "- 4= Doctor/Medicine \n",
    "- 5=Engineer \n",
    "- 6= Creative Arts/Entertainment \n",
    "- 7= Banking/Consulting/Finance/Marketing/Business/CEO/Entrepreneur/Admin \n",
    "- 8= Real Estate \n",
    "- 9= International/Humanitarian Affairs \n",
    "- 10= Undecided \n",
    "- 11=Social Work\n",
    "- 12=Speech Pathology\n",
    "- 13=Politics\n",
    "- 14=Pro sports/Athletics\n",
    "- 15=Other\n",
    "- 16=Journalism\n",
    "- 17=Architecture"
   ]
  },
  {
   "cell_type": "markdown",
   "metadata": {},
   "source": [
    "From the report, As we can see the 'career_c' is the label encoding for the column 'career' so we can drop this column."
   ]
  },
  {
   "cell_type": "code",
   "execution_count": 20,
   "metadata": {},
   "outputs": [],
   "source": [
    "# Drop some selected columns \n",
    "# We don't drop the coded columns since the model can deal with numercial columns\n",
    "df = df.drop(columns=['field','career','age'])"
   ]
  },
  {
   "cell_type": "code",
   "execution_count": 21,
   "metadata": {},
   "outputs": [
    {
     "name": "stdout",
     "output_type": "stream",
     "text": [
      "<class 'pandas.core.frame.DataFrame'>\n",
      "Int64Index: 8378 entries, 2583 to 6691\n",
      "Columns: 155 entries, gender to amb3_3\n",
      "dtypes: float64(140), int64(10), object(5)\n",
      "memory usage: 10.3+ MB\n"
     ]
    }
   ],
   "source": [
    "df.info()"
   ]
  },
  {
   "cell_type": "markdown",
   "metadata": {},
   "source": [
    "### **Deal with Categorical columns**"
   ]
  },
  {
   "cell_type": "markdown",
   "metadata": {},
   "source": [
    "* The category data type in pandas is a hybrid data type. It looks and behaves like a string in many instances but internally is represented by an array of integers. This allows the data to be sorted in a custom order and to more efficiently store the data.\n",
    "\n",
    "* At the end of the day why do we care about using categorical values? There are 3 main reasons:\n",
    "\n",
    "* We can define a custom sort order which can improve summarizing and reporting the data. In the example above, “X-Small” < “Small” < “Medium” < “Large” < “X-Large”. Alphabetical sorting would not be able to reproduce that order.\n",
    "* Some of the python visualization libraries can interpret the categorical data type to apply approrpiate statistical models or plot types.\n",
    "* Categorical data uses less memory which can lead to performance improvements."
   ]
  },
  {
   "cell_type": "markdown",
   "metadata": {},
   "source": [
    "* The simplest way to convert a column to a categorical type is to use astype('category') . We can use a loop to convert all the columns we care about using astype('category')"
   ]
  },
  {
   "cell_type": "code",
   "execution_count": 22,
   "metadata": {},
   "outputs": [],
   "source": [
    "## categorical encoding of this cols except 'field' and 'career' we drop them\n",
    "cols_to_exclude = ['undergra', 'tuition', 'from', 'zipcode', 'income']\n",
    "for col in cols_to_exclude:\n",
    "        df[col] = df[col].astype('category')"
   ]
  },
  {
   "cell_type": "code",
   "execution_count": 23,
   "metadata": {},
   "outputs": [
    {
     "name": "stdout",
     "output_type": "stream",
     "text": [
      "<class 'pandas.core.frame.DataFrame'>\n",
      "Int64Index: 8378 entries, 2583 to 6691\n",
      "Columns: 155 entries, gender to amb3_3\n",
      "dtypes: category(5), float64(140), int64(10)\n",
      "memory usage: 10.1 MB\n"
     ]
    }
   ],
   "source": [
    "df.info()"
   ]
  },
  {
   "cell_type": "code",
   "execution_count": 24,
   "metadata": {},
   "outputs": [
    {
     "name": "stdout",
     "output_type": "stream",
     "text": [
      "(5909, 155)\n",
      "2469\n",
      "(2469, 155)\n"
     ]
    }
   ],
   "source": [
    "train_data_index = Tr_df.shape[0] # it will return 5909 the number of trained data in the original csv file\n",
    "train_data_cleaned = df.iloc[:train_data_index] #Return the trained data \n",
    "train_data_cleaned_index = df.shape[0]\n",
    "print(train_data_cleaned.shape)\n",
    "test_data_index = Ts_df.shape[0]\n",
    "print(test_data_index)\n",
    "test_data_cleaned = df.iloc[train_data_index :]\n",
    "print(test_data_cleaned.shape)\n",
    "test_data_cleaned= test_data_cleaned.drop('match', axis=1)"
   ]
  },
  {
   "cell_type": "code",
   "execution_count": 25,
   "metadata": {},
   "outputs": [
    {
     "name": "stdout",
     "output_type": "stream",
     "text": [
      "<class 'pandas.core.frame.DataFrame'>\n",
      "Int64Index: 5909 entries, 2583 to 8149\n",
      "Columns: 155 entries, gender to amb3_3\n",
      "dtypes: category(5), float64(140), int64(10)\n",
      "memory usage: 6.9 MB\n"
     ]
    }
   ],
   "source": [
    "train_data_cleaned.info()#information for train data "
   ]
  },
  {
   "cell_type": "code",
   "execution_count": 26,
   "metadata": {},
   "outputs": [
    {
     "name": "stdout",
     "output_type": "stream",
     "text": [
      "<class 'pandas.core.frame.DataFrame'>\n",
      "Int64Index: 2469 entries, 934 to 6691\n",
      "Columns: 154 entries, gender to amb3_3\n",
      "dtypes: category(5), float64(140), int64(9)\n",
      "memory usage: 2.9 MB\n"
     ]
    }
   ],
   "source": [
    "test_data_cleaned.info()#information for test data"
   ]
  },
  {
   "cell_type": "code",
   "execution_count": 27,
   "metadata": {},
   "outputs": [
    {
     "name": "stdout",
     "output_type": "stream",
     "text": [
      "(5909, 154)\n",
      "(5909,)\n"
     ]
    },
    {
     "data": {
      "text/html": [
       "<div>\n",
       "<style scoped>\n",
       "    .dataframe tbody tr th:only-of-type {\n",
       "        vertical-align: middle;\n",
       "    }\n",
       "\n",
       "    .dataframe tbody tr th {\n",
       "        vertical-align: top;\n",
       "    }\n",
       "\n",
       "    .dataframe thead th {\n",
       "        text-align: right;\n",
       "    }\n",
       "</style>\n",
       "<table border=\"1\" class=\"dataframe\">\n",
       "  <thead>\n",
       "    <tr style=\"text-align: right;\">\n",
       "      <th></th>\n",
       "      <th>gender</th>\n",
       "      <th>idg</th>\n",
       "      <th>condtn</th>\n",
       "      <th>wave</th>\n",
       "      <th>round</th>\n",
       "      <th>position</th>\n",
       "      <th>positin1</th>\n",
       "      <th>order</th>\n",
       "      <th>partner</th>\n",
       "      <th>pid</th>\n",
       "      <th>...</th>\n",
       "      <th>sinc1_3</th>\n",
       "      <th>intel1_3</th>\n",
       "      <th>fun1_3</th>\n",
       "      <th>amb1_3</th>\n",
       "      <th>shar1_3</th>\n",
       "      <th>attr3_3</th>\n",
       "      <th>sinc3_3</th>\n",
       "      <th>intel3_3</th>\n",
       "      <th>fun3_3</th>\n",
       "      <th>amb3_3</th>\n",
       "    </tr>\n",
       "    <tr>\n",
       "      <th>id</th>\n",
       "      <th></th>\n",
       "      <th></th>\n",
       "      <th></th>\n",
       "      <th></th>\n",
       "      <th></th>\n",
       "      <th></th>\n",
       "      <th></th>\n",
       "      <th></th>\n",
       "      <th></th>\n",
       "      <th></th>\n",
       "      <th></th>\n",
       "      <th></th>\n",
       "      <th></th>\n",
       "      <th></th>\n",
       "      <th></th>\n",
       "      <th></th>\n",
       "      <th></th>\n",
       "      <th></th>\n",
       "      <th></th>\n",
       "      <th></th>\n",
       "      <th></th>\n",
       "    </tr>\n",
       "  </thead>\n",
       "  <tbody>\n",
       "    <tr>\n",
       "      <th>2583</th>\n",
       "      <td>0</td>\n",
       "      <td>3</td>\n",
       "      <td>2</td>\n",
       "      <td>14</td>\n",
       "      <td>18</td>\n",
       "      <td>2</td>\n",
       "      <td>2.0</td>\n",
       "      <td>14</td>\n",
       "      <td>12</td>\n",
       "      <td>372.0</td>\n",
       "      <td>...</td>\n",
       "      <td>NaN</td>\n",
       "      <td>NaN</td>\n",
       "      <td>NaN</td>\n",
       "      <td>NaN</td>\n",
       "      <td>NaN</td>\n",
       "      <td>NaN</td>\n",
       "      <td>NaN</td>\n",
       "      <td>NaN</td>\n",
       "      <td>NaN</td>\n",
       "      <td>NaN</td>\n",
       "    </tr>\n",
       "    <tr>\n",
       "      <th>6830</th>\n",
       "      <td>1</td>\n",
       "      <td>14</td>\n",
       "      <td>1</td>\n",
       "      <td>3</td>\n",
       "      <td>10</td>\n",
       "      <td>2</td>\n",
       "      <td>NaN</td>\n",
       "      <td>8</td>\n",
       "      <td>8</td>\n",
       "      <td>63.0</td>\n",
       "      <td>...</td>\n",
       "      <td>20.00</td>\n",
       "      <td>15.00</td>\n",
       "      <td>20.00</td>\n",
       "      <td>10.00</td>\n",
       "      <td>15.00</td>\n",
       "      <td>6.0</td>\n",
       "      <td>8.0</td>\n",
       "      <td>8.0</td>\n",
       "      <td>7.0</td>\n",
       "      <td>8.0</td>\n",
       "    </tr>\n",
       "    <tr>\n",
       "      <th>4840</th>\n",
       "      <td>1</td>\n",
       "      <td>14</td>\n",
       "      <td>1</td>\n",
       "      <td>13</td>\n",
       "      <td>10</td>\n",
       "      <td>8</td>\n",
       "      <td>8.0</td>\n",
       "      <td>10</td>\n",
       "      <td>10</td>\n",
       "      <td>331.0</td>\n",
       "      <td>...</td>\n",
       "      <td>NaN</td>\n",
       "      <td>NaN</td>\n",
       "      <td>NaN</td>\n",
       "      <td>NaN</td>\n",
       "      <td>NaN</td>\n",
       "      <td>NaN</td>\n",
       "      <td>NaN</td>\n",
       "      <td>NaN</td>\n",
       "      <td>NaN</td>\n",
       "      <td>NaN</td>\n",
       "    </tr>\n",
       "    <tr>\n",
       "      <th>5508</th>\n",
       "      <td>1</td>\n",
       "      <td>38</td>\n",
       "      <td>2</td>\n",
       "      <td>9</td>\n",
       "      <td>20</td>\n",
       "      <td>18</td>\n",
       "      <td>13.0</td>\n",
       "      <td>6</td>\n",
       "      <td>7</td>\n",
       "      <td>200.0</td>\n",
       "      <td>...</td>\n",
       "      <td>18.37</td>\n",
       "      <td>18.37</td>\n",
       "      <td>18.37</td>\n",
       "      <td>14.29</td>\n",
       "      <td>14.29</td>\n",
       "      <td>8.0</td>\n",
       "      <td>9.0</td>\n",
       "      <td>8.0</td>\n",
       "      <td>8.0</td>\n",
       "      <td>6.0</td>\n",
       "    </tr>\n",
       "    <tr>\n",
       "      <th>4828</th>\n",
       "      <td>1</td>\n",
       "      <td>24</td>\n",
       "      <td>2</td>\n",
       "      <td>14</td>\n",
       "      <td>20</td>\n",
       "      <td>6</td>\n",
       "      <td>6.0</td>\n",
       "      <td>20</td>\n",
       "      <td>17</td>\n",
       "      <td>357.0</td>\n",
       "      <td>...</td>\n",
       "      <td>NaN</td>\n",
       "      <td>NaN</td>\n",
       "      <td>NaN</td>\n",
       "      <td>NaN</td>\n",
       "      <td>NaN</td>\n",
       "      <td>NaN</td>\n",
       "      <td>NaN</td>\n",
       "      <td>NaN</td>\n",
       "      <td>NaN</td>\n",
       "      <td>NaN</td>\n",
       "    </tr>\n",
       "  </tbody>\n",
       "</table>\n",
       "<p>5 rows × 154 columns</p>\n",
       "</div>"
      ],
      "text/plain": [
       "      gender  idg  condtn  wave  round  position  positin1  order  partner  \\\n",
       "id                                                                           \n",
       "2583       0    3       2    14     18         2       2.0     14       12   \n",
       "6830       1   14       1     3     10         2       NaN      8        8   \n",
       "4840       1   14       1    13     10         8       8.0     10       10   \n",
       "5508       1   38       2     9     20        18      13.0      6        7   \n",
       "4828       1   24       2    14     20         6       6.0     20       17   \n",
       "\n",
       "        pid  ...  sinc1_3  intel1_3  fun1_3  amb1_3  shar1_3  attr3_3  \\\n",
       "id           ...                                                        \n",
       "2583  372.0  ...      NaN       NaN     NaN     NaN      NaN      NaN   \n",
       "6830   63.0  ...    20.00     15.00   20.00   10.00    15.00      6.0   \n",
       "4840  331.0  ...      NaN       NaN     NaN     NaN      NaN      NaN   \n",
       "5508  200.0  ...    18.37     18.37   18.37   14.29    14.29      8.0   \n",
       "4828  357.0  ...      NaN       NaN     NaN     NaN      NaN      NaN   \n",
       "\n",
       "      sinc3_3  intel3_3  fun3_3  amb3_3  \n",
       "id                                       \n",
       "2583      NaN       NaN     NaN     NaN  \n",
       "6830      8.0       8.0     7.0     8.0  \n",
       "4840      NaN       NaN     NaN     NaN  \n",
       "5508      9.0       8.0     8.0     6.0  \n",
       "4828      NaN       NaN     NaN     NaN  \n",
       "\n",
       "[5 rows x 154 columns]"
      ]
     },
     "execution_count": 27,
     "metadata": {},
     "output_type": "execute_result"
    }
   ],
   "source": [
    "X = train_data_cleaned.iloc[:, :] #take an object from the data\n",
    "X = X.drop('match', axis=1)           \n",
    "Y = train_data_cleaned['match']# The class label\n",
    "print(X.shape) , print(Y.shape)\n",
    "X.head(5)"
   ]
  },
  {
   "cell_type": "code",
   "execution_count": 28,
   "metadata": {},
   "outputs": [],
   "source": [
    "#extract numeric features and categorical features names\n",
    "Numeric_features = list(X.select_dtypes(include=['float64', 'int64']))\n",
    "Cat_features = list(X.select_dtypes(include=['category']))"
   ]
  },
  {
   "cell_type": "markdown",
   "metadata": {},
   "source": [
    "* Models that will be used:\n",
    "\n",
    "   1) **XGBClassifier** \n",
    "       - Grid Search\n",
    "       - Bayesian Search\n",
    "       - Random Search\n",
    "   2) **GradientBoostingClassifier**\n",
    "       - Grid Search\n",
    "       - Bayesian Search\n",
    "       - Random Search\n",
    "   3) **ExtraTreesClassifier**\n",
    "       - Grid Search\n",
    "       - Bayesian Search\n",
    "       - Random Search"
   ]
  },
  {
   "cell_type": "markdown",
   "metadata": {},
   "source": [
    "4- ✔️ Model Tuning and Documentation"
   ]
  },
  {
   "cell_type": "markdown",
   "metadata": {},
   "source": [
    "# Create Searching Functions & CSV creator."
   ]
  },
  {
   "cell_type": "code",
   "execution_count": 119,
   "metadata": {},
   "outputs": [],
   "source": [
    "#___________________________CSV creator Function____________________________________________________________\n",
    "# This function which will be used to save the csv file \n",
    "def CSV_creator(model_name, obj_):\n",
    "    # prepare submission:\n",
    "    submission = pd.DataFrame()\n",
    "    submission['id'] = Ts_df['id']\n",
    "    submission['match'] = obj_.predict_proba(test_data_cleaned)[:,1]\n",
    "    submission.to_csv(f'_{model_name}.csv', index=False)\n",
    "                    \n",
    "#___________________________Grid Search Function____________________________________________________________\n",
    "# Create the grid search function which it will be used with three models to tune the hyperparameters                     \n",
    "def grid_search_fun(pipeline, parameters, model_name):\n",
    "    # cv means cross-validation\n",
    "    # n_jobs means the cucurrent number of jobs\n",
    "    grid_s = GridSearchCV(pipeline, parameters, cv=10, verbose=3, n_jobs=2, scoring='roc_auc')\n",
    "    grid_s.fit(X, Y) # used to fit the model \n",
    "\n",
    "    # to show the best score and the best hyperparameters\n",
    "    print('The Best Score : ',grid_s.best_score_)\n",
    "    print('The Best Hyperparameter : ',grid_s.best_params_)\n",
    "\n",
    "    # to creat the CSV file, we will call the function csv_creator\n",
    "    CSV_creator(model_name,grid_s)\n",
    "                    \n",
    "#___________________________Randrom Search Function__________________________________________________________\n",
    "                    \n",
    "from sklearn.model_selection import RandomizedSearchCV\n",
    "def random_search_fun(pipeline, parameters, model_name, itr):\n",
    "    random_s = RandomizedSearchCV(pipeline, parameters, verbose=1, cv=10, n_iter=itr, n_jobs=2, scoring='roc_auc')\n",
    "    random_s.fit(X, Y)\n",
    "\n",
    "    print('The Best Score : ',random_s.best_score_)\n",
    "    print('The Best Hyperparameter : ',random_s.best_params_)\n",
    "\n",
    "    CSV_creator(model_name,random_s)                    \n",
    "                    \n",
    "#___________________________Bayesian Search Function_________________________________________________________\n",
    "                    \n",
    "from skopt import BayesSearchCV\n",
    "def bayesian_search_fun(pipeline, parameters, model_name, itr):\n",
    "    bayesian_s = BayesSearchCV(pipeline, parameters, cv=10, n_iter=itr, verbose=3, n_jobs=2, scoring='roc_auc')\n",
    "    bayesian_s.fit(X, Y)\n",
    "\n",
    "    print('The Best Score : ' , bayesian_s.best_score_)\n",
    "    print('The Best Hyperparameter : ' , bayesian_s.best_params_)\n",
    "\n",
    "    CSV_creator(model_name,bayesian_s)                   "
   ]
  },
  {
   "cell_type": "markdown",
   "metadata": {},
   "source": [
    "## For creating pipeline"
   ]
  },
  {
   "cell_type": "code",
   "execution_count": 30,
   "metadata": {},
   "outputs": [],
   "source": [
    "from sklearn.feature_selection import SelectKBest, mutual_info_classif\n",
    "# pipeline for numeric features preprocessing\n",
    "# SimpleImputer:Univariate imputer for completing missing values with simple strategies.\n",
    "# Standardize features by removing the mean and scaling to unit variance.\n",
    "pip_numeric = Pipeline(\n",
    "    steps=[ ('imputer', SimpleImputer()),\n",
    "            ('scaler', StandardScaler())])\n",
    "#_______________________________________________________________________________\n",
    "\n",
    "# pipeline for categorical features preprocessing\n",
    "# OneHotEncoder:Encode categorical features as a one-hot numeric array.\n",
    "pip_categorical = Pipeline(\n",
    "    steps=[ ('imputer', SimpleImputer(strategy='constant')),\n",
    "            ('onehot', OneHotEncoder(handle_unknown='ignore'))])\n",
    "\n",
    "#_______________________________________________________________________________\n",
    "\n",
    "# define preprocessor\n",
    "preprocessor = ColumnTransformer(\n",
    "    transformers=[ ('num', pip_numeric, Numeric_features),\n",
    "                    ('cat', pip_categorical, Cat_features)])"
   ]
  },
  {
   "cell_type": "markdown",
   "metadata": {},
   "source": [
    "# For Creating the classifiers and Parameters"
   ]
  },
  {
   "cell_type": "code",
   "execution_count": 84,
   "metadata": {},
   "outputs": [],
   "source": [
    "#_______________________________XGBClassifier__________________________________________________\n",
    "XGB = XGBClassifier(  scale_pos_weight=1, \n",
    "                      colsample_bytree = 0.4,\n",
    "                      learning_rate=0.02,\n",
    "                        max_depth=11,\n",
    "                      n_estimators=900,\n",
    "                      subsample = 0.8,\n",
    "                      objective='binary:logistic',\n",
    "                      seed = 2,\n",
    "                      reg_alpha = 0.3)\n",
    "\n",
    "XGB_params = {\n",
    " 'preprocessor__num__imputer__strategy': ['mean','median'],\n",
    "  # wider range for number of estimators in the ensemble\n",
    " 'my_classifier__n_estimators': [100,200,500], \n",
    " 'my_classifier__max_depth':[5,7,10,15],\n",
    " 'my_classifier__subsample':[0.6,0.8,1],\n",
    " 'my_classifier__colsample_bytree':[0.5,0.7,1]\n",
    " }\n",
    "\n",
    "#______________________________GradientBoostingClassifier________________________________________\n",
    "\n",
    "GBC = GradientBoostingClassifier(min_samples_split=500,\n",
    "                                 subsample=0.8,\n",
    "                                 random_state=42,\n",
    "                                 max_depth=11,\n",
    "                                 n_estimators=900,\n",
    "                                 learning_rate=0.02)\n",
    "\n",
    "GBC_param = {\n",
    "      'preprocessor__num__imputer__strategy': ['mean'], \n",
    "      'my_classifier__max_depth':[6,8,10] ,\n",
    "      'n_estimators':range(20,81,10)   \n",
    "}\n",
    "#_____________________________ExtraTreesClassifier_______________________________________________\n",
    "ETC = ExtraTreesClassifier(n_estimators=900,\n",
    "                           n_jobs=4,\n",
    "                           min_samples_split=25,\n",
    "                            min_samples_leaf=35)\n",
    "\n",
    "ETC_params = {\n",
    "      'preprocessor__num__imputer__strategy': ['mean','median'], \n",
    "      'my_classifier__max_depth':[11,12,13] ,\n",
    "  \n",
    "}\n",
    "\n",
    "#_____________________________RandomForestClassifier_______________________________________________\n",
    "\n",
    "RFC = RandomForestClassifier()\n",
    "\n",
    "# using a wider range of parameters in this grid\n",
    "RFC_params = {\n",
    " # trying different numeric imputation strategies, initial in template is 'median'\n",
    " # 'most_frequent' is the mode for a given feature\n",
    " 'preprocessor__num__imputer__strategy': ['mean','median', 'most_frequent'],\n",
    " # wider range for number of estimators in the ensemble\n",
    " 'my_classifier__n_estimators': [10,20,30,40,50,100],\n",
    " # wider range for maximum tree depth\n",
    " 'my_classifier__max_depth':[5,10,20,30,50],\n",
    " # trying different criteria for measuring impurity\n",
    " 'my_classifier__criterion':['gini','entropy'],\n",
    " # varying the number of features to include when computing the best split\n",
    " 'my_classifier__max_features':['auto','sqrt','log2'],\n",
    " # assigning balanced weights to each class to handle imbalanced target\n",
    " # subsample computes weights based on each bootstrap sample or 'bag' \n",
    " 'my_classifier__class_weight':['balanced','balanced_subsample']\n",
    "}"
   ]
  },
  {
   "cell_type": "markdown",
   "metadata": {},
   "source": [
    "### ----------------------------------------------XGBClassifier--------------------------------------------------"
   ]
  },
  {
   "cell_type": "markdown",
   "metadata": {},
   "source": [
    "# For using XGBClassifier using Random search"
   ]
  },
  {
   "cell_type": "code",
   "execution_count": 32,
   "metadata": {},
   "outputs": [],
   "source": [
    "# combine the preprocessor with the model as a full tunable pipeline\n",
    "full_pipline = Pipeline(\n",
    "    steps=[\n",
    "        ('preprocessor', preprocessor),\n",
    "         ('selector', SelectKBest(mutual_info_classif, k=125)),\n",
    "        ('my_classifier', XGB)])"
   ]
  },
  {
   "cell_type": "code",
   "execution_count": 33,
   "metadata": {},
   "outputs": [
    {
     "name": "stdout",
     "output_type": "stream",
     "text": [
      "Fitting 10 folds for each of 10 candidates, totalling 100 fits\n"
     ]
    },
    {
     "name": "stderr",
     "output_type": "stream",
     "text": [
      "[Parallel(n_jobs=2)]: Using backend LokyBackend with 2 concurrent workers.\n",
      "[Parallel(n_jobs=2)]: Done  28 tasks      | elapsed:  1.6min\n",
      "[Parallel(n_jobs=2)]: Done 100 out of 100 | elapsed:  3.7min finished\n"
     ]
    },
    {
     "name": "stdout",
     "output_type": "stream",
     "text": [
      "The Best Score :  0.8877654036272784\n",
      "The Best Hyperparameter :  {'preprocessor__num__imputer__strategy': 'mean', 'my_classifier__subsample': 0.6, 'my_classifier__n_estimators': 500, 'my_classifier__max_depth': 7, 'my_classifier__colsample_bytree': 1}\n"
     ]
    }
   ],
   "source": [
    "random_search_fun(full_pipline, XGB_params, 'XGBClassifier_RS', 10)"
   ]
  },
  {
   "cell_type": "markdown",
   "metadata": {},
   "source": [
    "# For using XGBClassifier using grid search"
   ]
  },
  {
   "cell_type": "code",
   "execution_count": 34,
   "metadata": {},
   "outputs": [
    {
     "name": "stdout",
     "output_type": "stream",
     "text": [
      "Fitting 10 folds for each of 216 candidates, totalling 2160 fits\n"
     ]
    },
    {
     "name": "stderr",
     "output_type": "stream",
     "text": [
      "[Parallel(n_jobs=2)]: Using backend LokyBackend with 2 concurrent workers.\n",
      "[Parallel(n_jobs=2)]: Done  28 tasks      | elapsed:   28.6s\n",
      "[Parallel(n_jobs=2)]: Done 124 tasks      | elapsed:  2.4min\n",
      "[Parallel(n_jobs=2)]: Done 284 tasks      | elapsed:  6.7min\n",
      "[Parallel(n_jobs=2)]: Done 508 tasks      | elapsed: 15.0min\n",
      "[Parallel(n_jobs=2)]: Done 796 tasks      | elapsed: 27.1min\n",
      "[Parallel(n_jobs=2)]: Done 1148 tasks      | elapsed: 39.0min\n",
      "[Parallel(n_jobs=2)]: Done 1564 tasks      | elapsed: 59.3min\n",
      "[Parallel(n_jobs=2)]: Done 2044 tasks      | elapsed: 83.1min\n",
      "[Parallel(n_jobs=2)]: Done 2160 out of 2160 | elapsed: 93.7min finished\n"
     ]
    },
    {
     "name": "stdout",
     "output_type": "stream",
     "text": [
      "The Best Score :  0.8880124727465726\n",
      "The Best Hyperparameter :  {'my_classifier__colsample_bytree': 1, 'my_classifier__max_depth': 7, 'my_classifier__n_estimators': 500, 'my_classifier__subsample': 0.8, 'preprocessor__num__imputer__strategy': 'mean'}\n"
     ]
    }
   ],
   "source": [
    "grid_search_fun(full_pipline, XGB_params, 'XGBClassifier_GS')"
   ]
  },
  {
   "cell_type": "markdown",
   "metadata": {},
   "source": [
    "# For using XGBClassifier using bayesian search"
   ]
  },
  {
   "cell_type": "code",
   "execution_count": 35,
   "metadata": {},
   "outputs": [
    {
     "name": "stdout",
     "output_type": "stream",
     "text": [
      "Fitting 10 folds for each of 1 candidates, totalling 10 fits\n"
     ]
    },
    {
     "name": "stderr",
     "output_type": "stream",
     "text": [
      "[Parallel(n_jobs=2)]: Using backend LokyBackend with 2 concurrent workers.\n",
      "[Parallel(n_jobs=2)]: Done  10 out of  10 | elapsed:   40.6s finished\n",
      "[Parallel(n_jobs=2)]: Using backend LokyBackend with 2 concurrent workers.\n"
     ]
    },
    {
     "name": "stdout",
     "output_type": "stream",
     "text": [
      "Fitting 10 folds for each of 1 candidates, totalling 10 fits\n"
     ]
    },
    {
     "name": "stderr",
     "output_type": "stream",
     "text": [
      "[Parallel(n_jobs=2)]: Done  10 out of  10 | elapsed:   22.0s finished\n",
      "[Parallel(n_jobs=2)]: Using backend LokyBackend with 2 concurrent workers.\n"
     ]
    },
    {
     "name": "stdout",
     "output_type": "stream",
     "text": [
      "Fitting 10 folds for each of 1 candidates, totalling 10 fits\n"
     ]
    },
    {
     "name": "stderr",
     "output_type": "stream",
     "text": [
      "[Parallel(n_jobs=2)]: Done  10 out of  10 | elapsed:   16.3s finished\n",
      "[Parallel(n_jobs=2)]: Using backend LokyBackend with 2 concurrent workers.\n"
     ]
    },
    {
     "name": "stdout",
     "output_type": "stream",
     "text": [
      "Fitting 10 folds for each of 1 candidates, totalling 10 fits\n"
     ]
    },
    {
     "name": "stderr",
     "output_type": "stream",
     "text": [
      "[Parallel(n_jobs=2)]: Done  10 out of  10 | elapsed:   19.5s finished\n",
      "[Parallel(n_jobs=2)]: Using backend LokyBackend with 2 concurrent workers.\n"
     ]
    },
    {
     "name": "stdout",
     "output_type": "stream",
     "text": [
      "Fitting 10 folds for each of 1 candidates, totalling 10 fits\n"
     ]
    },
    {
     "name": "stderr",
     "output_type": "stream",
     "text": [
      "[Parallel(n_jobs=2)]: Done  10 out of  10 | elapsed:   15.8s finished\n",
      "[Parallel(n_jobs=2)]: Using backend LokyBackend with 2 concurrent workers.\n"
     ]
    },
    {
     "name": "stdout",
     "output_type": "stream",
     "text": [
      "Fitting 10 folds for each of 1 candidates, totalling 10 fits\n"
     ]
    },
    {
     "name": "stderr",
     "output_type": "stream",
     "text": [
      "[Parallel(n_jobs=2)]: Done  10 out of  10 | elapsed:   33.2s finished\n",
      "[Parallel(n_jobs=2)]: Using backend LokyBackend with 2 concurrent workers.\n"
     ]
    },
    {
     "name": "stdout",
     "output_type": "stream",
     "text": [
      "Fitting 10 folds for each of 1 candidates, totalling 10 fits\n"
     ]
    },
    {
     "name": "stderr",
     "output_type": "stream",
     "text": [
      "[Parallel(n_jobs=2)]: Done  10 out of  10 | elapsed:   38.2s finished\n",
      "[Parallel(n_jobs=2)]: Using backend LokyBackend with 2 concurrent workers.\n"
     ]
    },
    {
     "name": "stdout",
     "output_type": "stream",
     "text": [
      "Fitting 10 folds for each of 1 candidates, totalling 10 fits\n"
     ]
    },
    {
     "name": "stderr",
     "output_type": "stream",
     "text": [
      "[Parallel(n_jobs=2)]: Done  10 out of  10 | elapsed:   24.5s finished\n",
      "[Parallel(n_jobs=2)]: Using backend LokyBackend with 2 concurrent workers.\n"
     ]
    },
    {
     "name": "stdout",
     "output_type": "stream",
     "text": [
      "Fitting 10 folds for each of 1 candidates, totalling 10 fits\n"
     ]
    },
    {
     "name": "stderr",
     "output_type": "stream",
     "text": [
      "[Parallel(n_jobs=2)]: Done  10 out of  10 | elapsed:   37.5s finished\n"
     ]
    },
    {
     "name": "stdout",
     "output_type": "stream",
     "text": [
      "Fitting 10 folds for each of 1 candidates, totalling 10 fits\n"
     ]
    },
    {
     "name": "stderr",
     "output_type": "stream",
     "text": [
      "[Parallel(n_jobs=2)]: Using backend LokyBackend with 2 concurrent workers.\n",
      "[Parallel(n_jobs=2)]: Done  10 out of  10 | elapsed:   48.1s finished\n"
     ]
    },
    {
     "name": "stdout",
     "output_type": "stream",
     "text": [
      "The Best Score :  0.8880124727465726\n",
      "The Best Hyperparameter :  OrderedDict([('my_classifier__colsample_bytree', 1.0), ('my_classifier__max_depth', 7), ('my_classifier__n_estimators', 500), ('my_classifier__subsample', 0.8), ('preprocessor__num__imputer__strategy', 'mean')])\n"
     ]
    }
   ],
   "source": [
    "bayesian_search_fun(full_pipline, XGB_params, 'XGBClassifier_BS', 10)"
   ]
  },
  {
   "cell_type": "markdown",
   "metadata": {},
   "source": [
    "### ----------------------------------------------GradientBoostingClassifier--------------------------------------------------"
   ]
  },
  {
   "cell_type": "markdown",
   "metadata": {},
   "source": [
    "# **For using GradientBoostingClassifier using Random search**"
   ]
  },
  {
   "cell_type": "code",
   "execution_count": 52,
   "metadata": {},
   "outputs": [],
   "source": [
    "# combine the preprocessor with the model as a full tunable pipeline\n",
    "full_pipline = Pipeline(\n",
    "    steps=[\n",
    "        ('preprocessor', preprocessor),\n",
    "         ('selector', SelectKBest(mutual_info_classif, k=125)),\n",
    "        ('my_classifier', GBC)])"
   ]
  },
  {
   "cell_type": "code",
   "execution_count": 53,
   "metadata": {
    "scrolled": false
   },
   "outputs": [
    {
     "name": "stdout",
     "output_type": "stream",
     "text": [
      "Fitting 10 folds for each of 3 candidates, totalling 30 fits\n"
     ]
    },
    {
     "name": "stderr",
     "output_type": "stream",
     "text": [
      "[Parallel(n_jobs=2)]: Using backend LokyBackend with 2 concurrent workers.\n",
      "[Parallel(n_jobs=2)]: Done  30 out of  30 | elapsed: 26.4min finished\n"
     ]
    },
    {
     "name": "stdout",
     "output_type": "stream",
     "text": [
      "The Best Score :  0.8870631656507614\n",
      "The Best Hyperparameter :  {'preprocessor__num__imputer__strategy': 'mean', 'my_classifier__max_depth': 8}\n"
     ]
    }
   ],
   "source": [
    "random_search_fun(full_pipline, GBC_param, 'GradientBoostingClassifier_RS', 15)"
   ]
  },
  {
   "cell_type": "markdown",
   "metadata": {},
   "source": [
    "# For using GradientBoostingClassifier using grid search"
   ]
  },
  {
   "cell_type": "code",
   "execution_count": 49,
   "metadata": {},
   "outputs": [
    {
     "name": "stdout",
     "output_type": "stream",
     "text": [
      "Fitting 10 folds for each of 3 candidates, totalling 30 fits\n"
     ]
    },
    {
     "name": "stderr",
     "output_type": "stream",
     "text": [
      "[Parallel(n_jobs=2)]: Using backend LokyBackend with 2 concurrent workers.\n",
      "[Parallel(n_jobs=2)]: Done  30 out of  30 | elapsed: 26.2min finished\n"
     ]
    },
    {
     "name": "stdout",
     "output_type": "stream",
     "text": [
      "The Best Score :  0.8870631656507614\n",
      "The Best Hyperparameter :  {'my_classifier__max_depth': 8, 'preprocessor__num__imputer__strategy': 'mean'}\n"
     ]
    }
   ],
   "source": [
    "grid_search_fun(full_pipline, GBC_param, 'GradientBoostingClassifier_GS')"
   ]
  },
  {
   "cell_type": "markdown",
   "metadata": {},
   "source": [
    "# For using GradientBoostingClassifier using bayesian search"
   ]
  },
  {
   "cell_type": "code",
   "execution_count": 54,
   "metadata": {},
   "outputs": [
    {
     "name": "stdout",
     "output_type": "stream",
     "text": [
      "Fitting 10 folds for each of 1 candidates, totalling 10 fits\n"
     ]
    },
    {
     "name": "stderr",
     "output_type": "stream",
     "text": [
      "[Parallel(n_jobs=2)]: Using backend LokyBackend with 2 concurrent workers.\n",
      "[Parallel(n_jobs=2)]: Done  10 out of  10 | elapsed:  8.9min finished\n",
      "[Parallel(n_jobs=2)]: Using backend LokyBackend with 2 concurrent workers.\n"
     ]
    },
    {
     "name": "stdout",
     "output_type": "stream",
     "text": [
      "Fitting 10 folds for each of 1 candidates, totalling 10 fits\n"
     ]
    },
    {
     "name": "stderr",
     "output_type": "stream",
     "text": [
      "[Parallel(n_jobs=2)]: Done  10 out of  10 | elapsed:  7.0min finished\n",
      "[Parallel(n_jobs=2)]: Using backend LokyBackend with 2 concurrent workers.\n"
     ]
    },
    {
     "name": "stdout",
     "output_type": "stream",
     "text": [
      "Fitting 10 folds for each of 1 candidates, totalling 10 fits\n"
     ]
    },
    {
     "name": "stderr",
     "output_type": "stream",
     "text": [
      "[Parallel(n_jobs=2)]: Done  10 out of  10 | elapsed:  8.9min finished\n",
      "[Parallel(n_jobs=2)]: Using backend LokyBackend with 2 concurrent workers.\n"
     ]
    },
    {
     "name": "stdout",
     "output_type": "stream",
     "text": [
      "Fitting 10 folds for each of 1 candidates, totalling 10 fits\n"
     ]
    },
    {
     "name": "stderr",
     "output_type": "stream",
     "text": [
      "[Parallel(n_jobs=2)]: Done  10 out of  10 | elapsed:  7.1min finished\n",
      "[Parallel(n_jobs=2)]: Using backend LokyBackend with 2 concurrent workers.\n"
     ]
    },
    {
     "name": "stdout",
     "output_type": "stream",
     "text": [
      "Fitting 10 folds for each of 1 candidates, totalling 10 fits\n"
     ]
    },
    {
     "name": "stderr",
     "output_type": "stream",
     "text": [
      "[Parallel(n_jobs=2)]: Done  10 out of  10 | elapsed: 16.4min finished\n"
     ]
    },
    {
     "name": "stdout",
     "output_type": "stream",
     "text": [
      "The Best Score :  0.8870631656507614\n",
      "The Best Hyperparameter :  OrderedDict([('my_classifier__max_depth', 8), ('preprocessor__num__imputer__strategy', 'mean')])\n"
     ]
    }
   ],
   "source": [
    "bayesian_search_fun(full_pipline, GBC_param, 'GradientBoostingClassifier_BS', 5)"
   ]
  },
  {
   "cell_type": "markdown",
   "metadata": {},
   "source": [
    "### --------------------------------------------ExtraTreesClassifier---------------------------------------------"
   ]
  },
  {
   "cell_type": "markdown",
   "metadata": {},
   "source": [
    "# **For using ExtraTreesClassifier using Random search**"
   ]
  },
  {
   "cell_type": "code",
   "execution_count": 67,
   "metadata": {},
   "outputs": [],
   "source": [
    "# combine the preprocessor with the model as a full tunable pipeline\n",
    "full_pipline = Pipeline(\n",
    "    steps=[\n",
    "        ('preprocessor', preprocessor),\n",
    "         ('selector', SelectKBest(mutual_info_classif, k=125)),\n",
    "        ('my_classifier', ETC)])"
   ]
  },
  {
   "cell_type": "code",
   "execution_count": 68,
   "metadata": {},
   "outputs": [
    {
     "name": "stdout",
     "output_type": "stream",
     "text": [
      "Fitting 10 folds for each of 6 candidates, totalling 60 fits\n"
     ]
    },
    {
     "name": "stderr",
     "output_type": "stream",
     "text": [
      "[Parallel(n_jobs=2)]: Using backend LokyBackend with 2 concurrent workers.\n",
      "[Parallel(n_jobs=2)]: Done  28 tasks      | elapsed:  2.2min\n",
      "[Parallel(n_jobs=2)]: Done  60 out of  60 | elapsed:  4.9min finished\n"
     ]
    },
    {
     "name": "stdout",
     "output_type": "stream",
     "text": [
      "The Best Score :  0.8632085790029581\n",
      "The Best Hyperparameter :  {'preprocessor__num__imputer__strategy': 'mean', 'my_classifier__max_depth': 11}\n"
     ]
    }
   ],
   "source": [
    "random_search_fun(full_pipline, ETC_params, 'ExtraTreesClassifier_RS', 10)"
   ]
  },
  {
   "cell_type": "markdown",
   "metadata": {},
   "source": [
    "# For using ExtraTreesClassifier using grid search"
   ]
  },
  {
   "cell_type": "code",
   "execution_count": 69,
   "metadata": {},
   "outputs": [
    {
     "name": "stdout",
     "output_type": "stream",
     "text": [
      "Fitting 10 folds for each of 6 candidates, totalling 60 fits\n"
     ]
    },
    {
     "name": "stderr",
     "output_type": "stream",
     "text": [
      "[Parallel(n_jobs=2)]: Using backend LokyBackend with 2 concurrent workers.\n",
      "[Parallel(n_jobs=2)]: Done  28 tasks      | elapsed:  2.2min\n",
      "[Parallel(n_jobs=2)]: Done  60 out of  60 | elapsed:  4.9min finished\n"
     ]
    },
    {
     "name": "stdout",
     "output_type": "stream",
     "text": [
      "The Best Score :  0.8638499061644351\n",
      "The Best Hyperparameter :  {'my_classifier__max_depth': 13, 'preprocessor__num__imputer__strategy': 'mean'}\n"
     ]
    }
   ],
   "source": [
    "grid_search_fun(full_pipline, ETC_params, 'ExtraTreesClassifier_GS')"
   ]
  },
  {
   "cell_type": "markdown",
   "metadata": {},
   "source": [
    "# For using ExtraTreesClassifier using bayesian search"
   ]
  },
  {
   "cell_type": "code",
   "execution_count": 70,
   "metadata": {
    "scrolled": true
   },
   "outputs": [
    {
     "name": "stdout",
     "output_type": "stream",
     "text": [
      "Fitting 10 folds for each of 1 candidates, totalling 10 fits\n"
     ]
    },
    {
     "name": "stderr",
     "output_type": "stream",
     "text": [
      "[Parallel(n_jobs=2)]: Using backend LokyBackend with 2 concurrent workers.\n",
      "[Parallel(n_jobs=2)]: Done  10 out of  10 | elapsed:   52.2s finished\n",
      "[Parallel(n_jobs=2)]: Using backend LokyBackend with 2 concurrent workers.\n"
     ]
    },
    {
     "name": "stdout",
     "output_type": "stream",
     "text": [
      "Fitting 10 folds for each of 1 candidates, totalling 10 fits\n"
     ]
    },
    {
     "name": "stderr",
     "output_type": "stream",
     "text": [
      "[Parallel(n_jobs=2)]: Done  10 out of  10 | elapsed:   48.8s finished\n",
      "[Parallel(n_jobs=2)]: Using backend LokyBackend with 2 concurrent workers.\n"
     ]
    },
    {
     "name": "stdout",
     "output_type": "stream",
     "text": [
      "Fitting 10 folds for each of 1 candidates, totalling 10 fits\n"
     ]
    },
    {
     "name": "stderr",
     "output_type": "stream",
     "text": [
      "[Parallel(n_jobs=2)]: Done  10 out of  10 | elapsed:   52.1s finished\n",
      "[Parallel(n_jobs=2)]: Using backend LokyBackend with 2 concurrent workers.\n"
     ]
    },
    {
     "name": "stdout",
     "output_type": "stream",
     "text": [
      "Fitting 10 folds for each of 1 candidates, totalling 10 fits\n"
     ]
    },
    {
     "name": "stderr",
     "output_type": "stream",
     "text": [
      "[Parallel(n_jobs=2)]: Done  10 out of  10 | elapsed:   48.2s finished\n",
      "[Parallel(n_jobs=2)]: Using backend LokyBackend with 2 concurrent workers.\n"
     ]
    },
    {
     "name": "stdout",
     "output_type": "stream",
     "text": [
      "Fitting 10 folds for each of 1 candidates, totalling 10 fits\n"
     ]
    },
    {
     "name": "stderr",
     "output_type": "stream",
     "text": [
      "[Parallel(n_jobs=2)]: Done  10 out of  10 | elapsed:   51.2s finished\n",
      "[Parallel(n_jobs=2)]: Using backend LokyBackend with 2 concurrent workers.\n"
     ]
    },
    {
     "name": "stdout",
     "output_type": "stream",
     "text": [
      "Fitting 10 folds for each of 1 candidates, totalling 10 fits\n"
     ]
    },
    {
     "name": "stderr",
     "output_type": "stream",
     "text": [
      "[Parallel(n_jobs=2)]: Done  10 out of  10 | elapsed:   48.4s finished\n",
      "[Parallel(n_jobs=2)]: Using backend LokyBackend with 2 concurrent workers.\n"
     ]
    },
    {
     "name": "stdout",
     "output_type": "stream",
     "text": [
      "Fitting 10 folds for each of 1 candidates, totalling 10 fits\n"
     ]
    },
    {
     "name": "stderr",
     "output_type": "stream",
     "text": [
      "[Parallel(n_jobs=2)]: Done  10 out of  10 | elapsed:   52.3s finished\n",
      "[Parallel(n_jobs=2)]: Using backend LokyBackend with 2 concurrent workers.\n"
     ]
    },
    {
     "name": "stdout",
     "output_type": "stream",
     "text": [
      "Fitting 10 folds for each of 1 candidates, totalling 10 fits\n"
     ]
    },
    {
     "name": "stderr",
     "output_type": "stream",
     "text": [
      "[Parallel(n_jobs=2)]: Done  10 out of  10 | elapsed:   45.9s finished\n",
      "[Parallel(n_jobs=2)]: Using backend LokyBackend with 2 concurrent workers.\n"
     ]
    },
    {
     "name": "stdout",
     "output_type": "stream",
     "text": [
      "Fitting 10 folds for each of 1 candidates, totalling 10 fits\n"
     ]
    },
    {
     "name": "stderr",
     "output_type": "stream",
     "text": [
      "[Parallel(n_jobs=2)]: Done  10 out of  10 | elapsed:   52.1s finished\n"
     ]
    },
    {
     "name": "stdout",
     "output_type": "stream",
     "text": [
      "Fitting 10 folds for each of 1 candidates, totalling 10 fits\n"
     ]
    },
    {
     "name": "stderr",
     "output_type": "stream",
     "text": [
      "[Parallel(n_jobs=2)]: Using backend LokyBackend with 2 concurrent workers.\n",
      "[Parallel(n_jobs=2)]: Done  10 out of  10 | elapsed:   45.8s finished\n"
     ]
    },
    {
     "name": "stdout",
     "output_type": "stream",
     "text": [
      "The Best Score :  0.8636177109339714\n",
      "The Best Hyperparameter :  OrderedDict([('my_classifier__max_depth', 12), ('preprocessor__num__imputer__strategy', 'mean')])\n"
     ]
    }
   ],
   "source": [
    "bayesian_search_fun(full_pipline, ETC_params, 'ExtraTreesClassifier_BS', 10)"
   ]
  },
  {
   "cell_type": "markdown",
   "metadata": {},
   "source": [
    "### --------------------------------------------RandomForestClassifier---------------------------------------------"
   ]
  },
  {
   "cell_type": "markdown",
   "metadata": {},
   "source": [
    "# For using RandomForestClassifier using grid search"
   ]
  },
  {
   "cell_type": "code",
   "execution_count": 77,
   "metadata": {},
   "outputs": [],
   "source": [
    "# combine the preprocessor with the model as a full tunable pipeline\n",
    "full_pipline = Pipeline(\n",
    "    steps=[\n",
    "        ('preprocessor', preprocessor),\n",
    "         ('selector', SelectKBest(mutual_info_classif, k=125)),\n",
    "        ('my_classifier', RFC)])"
   ]
  },
  {
   "cell_type": "code",
   "execution_count": 78,
   "metadata": {},
   "outputs": [
    {
     "name": "stdout",
     "output_type": "stream",
     "text": [
      "Fitting 10 folds for each of 1080 candidates, totalling 10800 fits\n"
     ]
    },
    {
     "name": "stderr",
     "output_type": "stream",
     "text": [
      "[Parallel(n_jobs=2)]: Using backend LokyBackend with 2 concurrent workers.\n",
      "[Parallel(n_jobs=2)]: Done  28 tasks      | elapsed:   23.9s\n",
      "[Parallel(n_jobs=2)]: Done 124 tasks      | elapsed:  1.9min\n",
      "[Parallel(n_jobs=2)]: Done 284 tasks      | elapsed:  4.6min\n",
      "[Parallel(n_jobs=2)]: Done 508 tasks      | elapsed:  8.1min\n",
      "[Parallel(n_jobs=2)]: Done 796 tasks      | elapsed: 14.6min\n",
      "[Parallel(n_jobs=2)]: Done 1148 tasks      | elapsed: 22.7min\n",
      "[Parallel(n_jobs=2)]: Done 1564 tasks      | elapsed: 34.9min\n",
      "[Parallel(n_jobs=2)]: Done 2044 tasks      | elapsed: 49.2min\n",
      "[Parallel(n_jobs=2)]: Done 2588 tasks      | elapsed: 81.7min\n",
      "[Parallel(n_jobs=2)]: Done 3196 tasks      | elapsed: 92.6min\n",
      "[Parallel(n_jobs=2)]: Done 3868 tasks      | elapsed: 114.0min\n",
      "[Parallel(n_jobs=2)]: Done 4604 tasks      | elapsed: 135.5min\n",
      "[Parallel(n_jobs=2)]: Done 5404 tasks      | elapsed: 159.2min\n",
      "[Parallel(n_jobs=2)]: Done 6268 tasks      | elapsed: 176.1min\n",
      "[Parallel(n_jobs=2)]: Done 7196 tasks      | elapsed: 203.0min\n",
      "[Parallel(n_jobs=2)]: Done 8188 tasks      | elapsed: 230.9min\n",
      "[Parallel(n_jobs=2)]: Done 9244 tasks      | elapsed: 252.1min\n",
      "[Parallel(n_jobs=2)]: Done 10364 tasks      | elapsed: 284.8min\n",
      "[Parallel(n_jobs=2)]: Done 10800 out of 10800 | elapsed: 298.2min finished\n"
     ]
    },
    {
     "name": "stdout",
     "output_type": "stream",
     "text": [
      "The Best Score :  0.8727903727223915\n",
      "The Best Hyperparameter :  {'my_classifier__class_weight': 'balanced_subsample', 'my_classifier__criterion': 'entropy', 'my_classifier__max_depth': 30, 'my_classifier__max_features': 'auto', 'my_classifier__n_estimators': 100, 'preprocessor__num__imputer__strategy': 'mean'}\n"
     ]
    }
   ],
   "source": [
    "grid_search_fun(full_pipline, RFC_params, 'RandomForestClassifier_GS')"
   ]
  },
  {
   "cell_type": "markdown",
   "metadata": {},
   "source": [
    "# **For using RandomForestClassifier using Random search**"
   ]
  },
  {
   "cell_type": "code",
   "execution_count": 91,
   "metadata": {},
   "outputs": [
    {
     "name": "stdout",
     "output_type": "stream",
     "text": [
      "Fitting 10 folds for each of 10 candidates, totalling 100 fits\n"
     ]
    },
    {
     "name": "stderr",
     "output_type": "stream",
     "text": [
      "[Parallel(n_jobs=2)]: Using backend LokyBackend with 2 concurrent workers.\n",
      "[Parallel(n_jobs=2)]: Done  28 tasks      | elapsed:  1.0min\n",
      "[Parallel(n_jobs=2)]: Done 100 out of 100 | elapsed:  2.6min finished\n"
     ]
    },
    {
     "name": "stdout",
     "output_type": "stream",
     "text": [
      "The Best Score :  0.8653452836266142\n",
      "The Best Hyperparameter :  {'preprocessor__num__imputer__strategy': 'median', 'my_classifier__n_estimators': 100, 'my_classifier__max_features': 'sqrt', 'my_classifier__max_depth': 30, 'my_classifier__criterion': 'entropy', 'my_classifier__class_weight': 'balanced_subsample'}\n"
     ]
    }
   ],
   "source": [
    "random_search_fun(full_pipline, RFC_params, 'RandomForestClassifier_RS', 10)"
   ]
  },
  {
   "cell_type": "markdown",
   "metadata": {},
   "source": [
    "# **For using RandomForestClassifier using bayesian search**"
   ]
  },
  {
   "cell_type": "code",
   "execution_count": 87,
   "metadata": {
    "scrolled": true
   },
   "outputs": [
    {
     "name": "stdout",
     "output_type": "stream",
     "text": [
      "Fitting 10 folds for each of 1 candidates, totalling 10 fits\n"
     ]
    },
    {
     "name": "stderr",
     "output_type": "stream",
     "text": [
      "[Parallel(n_jobs=2)]: Using backend LokyBackend with 2 concurrent workers.\n",
      "[Parallel(n_jobs=2)]: Done  10 out of  10 | elapsed:   28.1s finished\n",
      "[Parallel(n_jobs=2)]: Using backend LokyBackend with 2 concurrent workers.\n"
     ]
    },
    {
     "name": "stdout",
     "output_type": "stream",
     "text": [
      "Fitting 10 folds for each of 1 candidates, totalling 10 fits\n"
     ]
    },
    {
     "name": "stderr",
     "output_type": "stream",
     "text": [
      "[Parallel(n_jobs=2)]: Done  10 out of  10 | elapsed:   15.8s finished\n",
      "[Parallel(n_jobs=2)]: Using backend LokyBackend with 2 concurrent workers.\n"
     ]
    },
    {
     "name": "stdout",
     "output_type": "stream",
     "text": [
      "Fitting 10 folds for each of 1 candidates, totalling 10 fits\n"
     ]
    },
    {
     "name": "stderr",
     "output_type": "stream",
     "text": [
      "[Parallel(n_jobs=2)]: Done  10 out of  10 | elapsed:   14.8s finished\n",
      "[Parallel(n_jobs=2)]: Using backend LokyBackend with 2 concurrent workers.\n"
     ]
    },
    {
     "name": "stdout",
     "output_type": "stream",
     "text": [
      "Fitting 10 folds for each of 1 candidates, totalling 10 fits\n"
     ]
    },
    {
     "name": "stderr",
     "output_type": "stream",
     "text": [
      "[Parallel(n_jobs=2)]: Done  10 out of  10 | elapsed:   17.2s finished\n",
      "[Parallel(n_jobs=2)]: Using backend LokyBackend with 2 concurrent workers.\n"
     ]
    },
    {
     "name": "stdout",
     "output_type": "stream",
     "text": [
      "Fitting 10 folds for each of 1 candidates, totalling 10 fits\n"
     ]
    },
    {
     "name": "stderr",
     "output_type": "stream",
     "text": [
      "[Parallel(n_jobs=2)]: Done  10 out of  10 | elapsed:   36.3s finished\n",
      "[Parallel(n_jobs=2)]: Using backend LokyBackend with 2 concurrent workers.\n"
     ]
    },
    {
     "name": "stdout",
     "output_type": "stream",
     "text": [
      "Fitting 10 folds for each of 1 candidates, totalling 10 fits\n"
     ]
    },
    {
     "name": "stderr",
     "output_type": "stream",
     "text": [
      "[Parallel(n_jobs=2)]: Done  10 out of  10 | elapsed:   26.8s finished\n",
      "[Parallel(n_jobs=2)]: Using backend LokyBackend with 2 concurrent workers.\n"
     ]
    },
    {
     "name": "stdout",
     "output_type": "stream",
     "text": [
      "Fitting 10 folds for each of 1 candidates, totalling 10 fits\n"
     ]
    },
    {
     "name": "stderr",
     "output_type": "stream",
     "text": [
      "[Parallel(n_jobs=2)]: Done  10 out of  10 | elapsed:   16.2s finished\n",
      "[Parallel(n_jobs=2)]: Using backend LokyBackend with 2 concurrent workers.\n"
     ]
    },
    {
     "name": "stdout",
     "output_type": "stream",
     "text": [
      "Fitting 10 folds for each of 1 candidates, totalling 10 fits\n"
     ]
    },
    {
     "name": "stderr",
     "output_type": "stream",
     "text": [
      "[Parallel(n_jobs=2)]: Done  10 out of  10 | elapsed:   12.9s finished\n",
      "[Parallel(n_jobs=2)]: Using backend LokyBackend with 2 concurrent workers.\n"
     ]
    },
    {
     "name": "stdout",
     "output_type": "stream",
     "text": [
      "Fitting 10 folds for each of 1 candidates, totalling 10 fits\n"
     ]
    },
    {
     "name": "stderr",
     "output_type": "stream",
     "text": [
      "[Parallel(n_jobs=2)]: Done  10 out of  10 | elapsed:   21.1s finished\n"
     ]
    },
    {
     "name": "stdout",
     "output_type": "stream",
     "text": [
      "Fitting 10 folds for each of 1 candidates, totalling 10 fits\n"
     ]
    },
    {
     "name": "stderr",
     "output_type": "stream",
     "text": [
      "[Parallel(n_jobs=2)]: Using backend LokyBackend with 2 concurrent workers.\n",
      "[Parallel(n_jobs=2)]: Done  10 out of  10 | elapsed:    9.6s finished\n"
     ]
    },
    {
     "name": "stdout",
     "output_type": "stream",
     "text": [
      "The Best Score :  0.8642856566427236\n",
      "The Best Hyperparameter :  OrderedDict([('my_classifier__class_weight', 'balanced_subsample'), ('my_classifier__criterion', 'gini'), ('my_classifier__max_depth', 20), ('my_classifier__max_features', 'sqrt'), ('my_classifier__n_estimators', 100), ('preprocessor__num__imputer__strategy', 'median')])\n"
     ]
    }
   ],
   "source": [
    "bayesian_search_fun(full_pipline, RFC_params, 'RandomForestClassifier_BS', 10)"
   ]
  },
  {
   "cell_type": "markdown",
   "metadata": {},
   "source": [
    "5- ✔️ Answer some of questions (briefly)"
   ]
  },
  {
   "cell_type": "markdown",
   "metadata": {},
   "source": [
    "### ---------------------------------------------------------------The Questions---------------------------------------------------------"
   ]
  },
  {
   "cell_type": "markdown",
   "metadata": {},
   "source": [
    "* 🌈Why a simple linear regression model (without any activation function) is not good for classification task, compared to Perceptron/Logistic regression?\n",
    "* 🌈What's a decision tree and how it is different to a logistic regression model?\n",
    "* 🌈What's the difference between grid search and random search?\n",
    "* 🌈What's the difference between bayesian search and random search?"
   ]
  },
  {
   "cell_type": "markdown",
   "metadata": {},
   "source": [
    "### ---------------------------------------------------------------Answer The Questions---------------------------------------------------------"
   ]
  },
  {
   "cell_type": "markdown",
   "metadata": {},
   "source": [
    "* 🌈Why a simple linear regression model (without any activation function) is not good for classification task, compared to Perceptron/Logistic regression?"
   ]
  },
  {
   "cell_type": "markdown",
   "metadata": {},
   "source": [
    "**A simple linear regression model without any activation function is not well-suited for classification tasks for several reasons:**\n",
    "\n",
    "*    1) Output range: Linear regression models predict a continuous output variable, which can take any value on the real number line. In contrast, for binary classification tasks (e.g. classifying images as cat or not cat), the output should be a binary value (0 or 1). For multi-class classification tasks (e.g. classifying images into several categories), the output should be categorical, with each category corresponding to a unique value.\n",
    "\n",
    "*    2) Sensitivity to outliers: Linear regression models are sensitive to outliers, meaning that they can be heavily influenced by data points that are far from the main cluster of data. This can cause the model to predict extreme values, which may not be suitable for classification tasks where the output values should be well-defined.\n",
    "\n",
    "*    3) Non-linear decision boundaries: Linear regression models fit a straight line to the data, which may not be flexible enough to capture complex decision boundaries in classification tasks. For example, consider a dataset where the two classes are separated by a curved boundary. A linear regression model may not be able to capture this curved boundary and would perform poorly on this task.\n",
    "\n",
    "**Perceptron and logistic regression models, on the other hand, are specifically designed for classification tasks and address these limitations:**\n",
    "\n",
    "*    1) Output range: Perceptron and logistic regression models use an activation function to map the output to a specific range (e.g. sigmoid function maps the output to the range [0, 1]). This ensures that the output is appropriate for classification tasks.\n",
    "\n",
    "*    2) Robustness to outliers: Perceptron and logistic regression models are less sensitive to outliers compared to linear regression models. This is because the activation function limits the output range, and the optimization algorithm focuses on minimizing the classification error rather than the residual error.\n",
    "\n",
    "*    3) Non-linear decision boundaries: Perceptron and logistic regression models can use non-linear activation functions to model complex decision boundaries. For example, a neural network with multiple layers and non-linear activation functions can capture highly complex decision boundaries.\n",
    "\n",
    "**Overall, a simple linear regression model is not a suitable choice for classification tasks due to its limitations. Perceptron and logistic regression models, on the other hand, are specifically designed for classification tasks and are more appropriate.**"
   ]
  },
  {
   "cell_type": "markdown",
   "metadata": {},
   "source": [
    "🌈What's a decision tree and how it is different to a logistic regression model?"
   ]
  },
  {
   "cell_type": "markdown",
   "metadata": {},
   "source": [
    "* A decision tree is a type of supervised learning algorithm used in machine learning and data mining. It is a hierarchical model that recursively splits the dataset into subsets based on the most important features, with each split aiming to maximize the difference in outcome between the resulting subsets. At each node of the tree, a decision is made based on a feature value to move to the next node, until a leaf node is reached that corresponds to a predicted outcome.\n",
    "\n",
    "* In contrast, logistic regression is a type of statistical model used to model the probability of a binary outcome (e.g. yes/no or 0/1). Logistic regression models the relationship between the dependent variable and one or more independent variables, using a logistic function to map the linear output of the model to a probability score.\n",
    "\n",
    "**The main differences between decision trees and logistic regression models are as follows:**\n",
    "\n",
    "* Model structure: Decision trees are hierarchical models, consisting of a root node, internal nodes, and leaf nodes, whereas logistic regression is a linear model that uses a logistic function to map the output to a probability score.\n",
    "\n",
    "* Interpretability: Decision trees are highly interpretable, as they can be visualized and easily understood by non-technical users. Logistic regression models are less interpretable, as the relationship between the independent variables and the dependent variable is modeled as a linear combination of coefficients, which may not be easily understood.\n",
    "\n",
    "* Non-linear relationships: Decision trees are able to model non-linear relationships between the dependent variable and the independent variables by recursively splitting the data based on the most important features. Logistic regression models assume a linear relationship between the independent variables and the dependent variable, unless non-linear terms or interactions are explicitly included in the model.\n",
    "\n",
    "* Overfitting: Decision trees are prone to overfitting the data, especially if the tree is too complex or if the data has a lot of noise. Logistic regression models are less prone to overfitting and are generally more robust, especially if regularization techniques are used.\n",
    "\n",
    "**In summary, decision trees and logistic regression models are both popular supervised learning algorithms, but differ in their model structure, interpretability, ability to model non-linear relationships, and tendency to overfit the data. The choice of which model to use depends on the specific characteristics of the data and the modeling objectives.**"
   ]
  },
  {
   "cell_type": "markdown",
   "metadata": {},
   "source": [
    "🌈What's the difference between grid search and random search?"
   ]
  },
  {
   "cell_type": "markdown",
   "metadata": {},
   "source": [
    "* Grid search and random search are two commonly used hyperparameter optimization techniques used in machine learning. Both methods are used to search for the best set of hyperparameters for a given machine learning model, but they differ in their search strategy.\n",
    "\n",
    "* Grid search is a method where a pre-defined set of hyperparameters is selected, and the model is trained on all possible combinations of hyperparameters in a grid-like manner. The search is typically guided by a predefined range of values for each hyperparameter, and each combination is evaluated by a cross-validation procedure to estimate its performance on unseen data. Grid search is a systematic approach to hyperparameter optimization that exhaustively searches all possible combinations of hyperparameters, and it is suitable for cases where the search space is small and the computational cost is affordable.\n",
    "\n",
    "* In contrast, random search is a method where hyperparameters are randomly sampled from a pre-defined range of values, and the model is trained on a random subset of these combinations. Random search is a more flexible approach that can explore a wider range of hyperparameters and does not require predefining a grid-like search space. It can be computationally cheaper than grid search, especially when the search space is large.\n",
    "\n",
    "**The main differences between grid search and random search are:**\n",
    "\n",
    "1) Search strategy: Grid search searches all possible combinations of hyperparameters, while random search selects hyperparameters randomly.\n",
    "\n",
    "2) Computation cost: Grid search can be computationally expensive, especially when the search space is large, while random search is typically less expensive.\n",
    "\n",
    "3) Search space: Grid search requires a pre-defined search space for hyperparameters, while random search only requires a range of values for each hyperparameter.\n",
    "\n",
    "4) Performance: Grid search can guarantee finding the optimal combination of hyperparameters if the search space is small and the performance metric is well-defined, while random search is less guaranteed to find the optimal combination, but can still perform well, especially if the search space is large.\n",
    "\n",
    "**In summary, grid search and random search are two widely used hyperparameter optimization techniques, each with its own advantages and disadvantages. Grid search is more systematic and can guarantee finding the optimal combination, while random search is more flexible and less computationally expensive, but may not guarantee finding the optimal combination. The choice of which method to use depends on the specific characteristics of the problem, the size of the search space, and the computational resources available.**"
   ]
  },
  {
   "cell_type": "markdown",
   "metadata": {},
   "source": [
    "🌈What's the difference between bayesian search and random search?"
   ]
  },
  {
   "cell_type": "markdown",
   "metadata": {},
   "source": [
    "* Both Bayesian search and random search are methods used for hyperparameter tuning in machine learning models. The main difference between the two approaches is the way they explore the hyperparameter space.\n",
    "\n",
    "* Random search selects hyperparameters randomly from a given search space. It doesn't use any prior knowledge about the performance of the model on the dataset. Therefore, it requires a larger number of iterations to find the optimal hyperparameters, as compared to other methods.\n",
    "\n",
    "* Bayesian search, on the other hand, uses probability distributions to select hyperparameters. It uses prior knowledge about the performance of the model on the dataset to update the probability distribution of the hyperparameters after each iteration. This helps to select the most promising hyperparameters based on the previous results, which can lead to a faster convergence to the optimal hyperparameters.\n",
    "\n",
    "**In summary, random search is a simpler and more straightforward method for hyperparameter tuning, but it may require a larger number of iterations to find the optimal hyperparameters. Bayesian search is a more complex method that requires more computational resources, but it can converge to the optimal hyperparameters faster by leveraging previous results.**"
   ]
  },
  {
   "cell_type": "code",
   "execution_count": null,
   "metadata": {},
   "outputs": [],
   "source": []
  }
 ],
 "metadata": {
  "kernelspec": {
   "display_name": "Python 3",
   "language": "python",
   "name": "python3"
  },
  "language_info": {
   "codemirror_mode": {
    "name": "ipython",
    "version": 3
   },
   "file_extension": ".py",
   "mimetype": "text/x-python",
   "name": "python",
   "nbconvert_exporter": "python",
   "pygments_lexer": "ipython3",
   "version": "3.8.5"
  }
 },
 "nbformat": 4,
 "nbformat_minor": 4
}
